{
 "cells": [
  {
   "cell_type": "markdown",
   "id": "7eabef21-b2cb-4fb1-9199-5432460018ba",
   "metadata": {},
   "source": [
    "# Analysis Services Churning of Telco-customer"
   ]
  },
  {
   "cell_type": "markdown",
   "id": "d636c2a2-29ff-4da7-90d2-ef5597169667",
   "metadata": {},
   "source": [
    "Project objective and aim\n",
    "- To identify the key services\n",
    "- To identify the churn rate of each services\n",
    "- Create a visual representation of the result using Seaborn"
   ]
  },
  {
   "cell_type": "markdown",
   "id": "d95e2a61-aa48-4e6e-8814-3a0b98839a48",
   "metadata": {},
   "source": [
    "## Information on Dataset"
   ]
  },
  {
   "cell_type": "markdown",
   "id": "5a3c8fb1-1d2d-4b41-b92f-f91346559b15",
   "metadata": {},
   "source": [
    "Using Telco Customer churn data obtain from Kaggle: https://www.kaggle.com/datasets/blastchar/telco-customer-churn?resource=download.\n",
    "> The data was downloaded onto a local machine on the  27/01/2025"
   ]
  },
  {
   "cell_type": "markdown",
   "id": "237a9e2b-0119-4f30-9686-a33df82b8c4a",
   "metadata": {},
   "source": [
    "Features of the dataset \n",
    "- Customer ID: Unique code to each customer\n",
    "- Gender: Whether the customer is a male or a female\n",
    "- Senior Citizen: Whether the customer is a senior citizen or not (1, 0)\n",
    "- Partner: Whether the customer has a partner or not (Yes, No)\n",
    "- Dependents: Whether the customer has dependents or not (Yes, No)\n",
    "- Tenure: Number of months the customer has stayed with the company\n",
    "- PoneService: Whether the customer has a phone service or not (Yes, No)\n",
    "- MultipleLines: Whether the customer has multiple lines or not (Yes, No, No phone service)\n",
    "- InternetService: Customer’s internet service provider (DSL, Fiber optic, No)\n",
    "- OnlineSecurity: Whether the customer has online security or not (Yes, No, No internet service)\n",
    "- OnlineBackup: Whether the customer has online backup or not (Yes, No, No internet service)\n",
    "- DeviceProtection: Whether the customer has device protection or not (Yes, No, No internet service)\n",
    "- TechSupport: Whether the customer has tech support or not (Yes, No, No internet service)\n",
    "- StreamingTV: Whether the customer has streaming TV or not (Yes, No, No internet service)\n",
    "- StreamingMovies: Whether the customer has streaming movies or not (Yes, No, No internet service)\n",
    "- Contract: The contract term of the customer (Month-to-month, One year, Two year)\n",
    "- PaperlessBilling: Whether the customer has paperless billing or not (Yes, No)\n",
    "- PaymentMethod: The customer’s payment method (Electronic check, Mailed check, Bank transfer (automatic), Credit card\n",
    "- MonthlyCharges: The amount charged to the customer monthly\n",
    "- TotalCharges: The total amount charged to the customer\n",
    "- Churn: Whether the customer churned or not (Yes or No)"
   ]
  },
  {
   "cell_type": "markdown",
   "id": "e92a94ff-9bff-444b-8946-516d31a758db",
   "metadata": {},
   "source": [
    "Features of interest:  \n",
    "- PoneService: Whether the customer has a phone service or not (Yes, No)\n",
    "- MultipleLines: Whether the customer has multiple lines or not (Yes, No, No phone service)\n",
    "- InternetService: Customer’s internet service provider (DSL, Fiber optic, No)\n",
    "- OnlineSecurity: Whether the customer has online security or not (Yes, No, No internet service)\n",
    "- OnlineBackup: Whether the customer has online backup or not (Yes, No, No internet service)\n",
    "- DeviceProtection: Whether the customer has device protection or not (Yes, No, No internet service)\n",
    "- TechSupport: Whether the customer has tech support or not (Yes, No, No internet service)\n",
    "- StreamingTV: Whether the customer has streaming TV or not (Yes, No, No internet service)\n",
    "- StreamingMovies: Whether the customer has streaming movies or not (Yes, No, No internet service)\n",
    "- Churn: Whether the customer churned or not (Yes or No)"
   ]
  },
  {
   "cell_type": "markdown",
   "id": "7d4fb3ea-32d0-4323-9931-340876c5b26e",
   "metadata": {},
   "source": [
    "## Loading dataset"
   ]
  },
  {
   "cell_type": "markdown",
   "id": "4e5e73c8-7346-4ed8-b371-d9c806690195",
   "metadata": {},
   "source": [
    "Import the required libraries."
   ]
  },
  {
   "cell_type": "code",
   "execution_count": 2,
   "id": "fdf008ea-74e6-404b-a4c8-1697d0ff9783",
   "metadata": {},
   "outputs": [],
   "source": [
    "import pandas as pd\n",
    "import numpy as np\n",
    "import matplotlib.pyplot as plt\n",
    "import seaborn as sns"
   ]
  },
  {
   "cell_type": "markdown",
   "id": "8c9946b5-25e6-450c-8261-fa453d2f085d",
   "metadata": {},
   "source": [
    "Loading the data"
   ]
  },
  {
   "cell_type": "code",
   "execution_count": 3,
   "id": "87eef4d8-7f7f-404d-9691-6ecc83dea361",
   "metadata": {},
   "outputs": [],
   "source": [
    "df = pd.read_csv('Telco-Customer-Churn-Data.csv')"
   ]
  },
  {
   "cell_type": "markdown",
   "id": "b7752118-eade-45fc-84a5-00a3b518f4d3",
   "metadata": {},
   "source": [
    "## Data Exploring the data set"
   ]
  },
  {
   "cell_type": "markdown",
   "id": "1def0f1b-ba6e-46af-b6b0-2e790a47aa6d",
   "metadata": {},
   "source": [
    "Displaying the top 5 rows and columns of the dataset to get a feel of how the dataset look."
   ]
  },
  {
   "cell_type": "code",
   "execution_count": 4,
   "id": "ce767d47-e9c7-482a-b5dc-44c8a5a48546",
   "metadata": {},
   "outputs": [
    {
     "data": {
      "text/html": [
       "<div>\n",
       "<style scoped>\n",
       "    .dataframe tbody tr th:only-of-type {\n",
       "        vertical-align: middle;\n",
       "    }\n",
       "\n",
       "    .dataframe tbody tr th {\n",
       "        vertical-align: top;\n",
       "    }\n",
       "\n",
       "    .dataframe thead th {\n",
       "        text-align: right;\n",
       "    }\n",
       "</style>\n",
       "<table border=\"1\" class=\"dataframe\">\n",
       "  <thead>\n",
       "    <tr style=\"text-align: right;\">\n",
       "      <th></th>\n",
       "      <th>customerID</th>\n",
       "      <th>gender</th>\n",
       "      <th>SeniorCitizen</th>\n",
       "      <th>Partner</th>\n",
       "      <th>Dependents</th>\n",
       "      <th>tenure</th>\n",
       "      <th>PhoneService</th>\n",
       "      <th>MultipleLines</th>\n",
       "      <th>InternetService</th>\n",
       "      <th>OnlineSecurity</th>\n",
       "      <th>...</th>\n",
       "      <th>DeviceProtection</th>\n",
       "      <th>TechSupport</th>\n",
       "      <th>StreamingTV</th>\n",
       "      <th>StreamingMovies</th>\n",
       "      <th>Contract</th>\n",
       "      <th>PaperlessBilling</th>\n",
       "      <th>PaymentMethod</th>\n",
       "      <th>MonthlyCharges</th>\n",
       "      <th>TotalCharges</th>\n",
       "      <th>Churn</th>\n",
       "    </tr>\n",
       "  </thead>\n",
       "  <tbody>\n",
       "    <tr>\n",
       "      <th>0</th>\n",
       "      <td>7590-VHVEG</td>\n",
       "      <td>Female</td>\n",
       "      <td>0</td>\n",
       "      <td>Yes</td>\n",
       "      <td>No</td>\n",
       "      <td>1</td>\n",
       "      <td>No</td>\n",
       "      <td>No phone service</td>\n",
       "      <td>DSL</td>\n",
       "      <td>No</td>\n",
       "      <td>...</td>\n",
       "      <td>No</td>\n",
       "      <td>No</td>\n",
       "      <td>No</td>\n",
       "      <td>No</td>\n",
       "      <td>Month-to-month</td>\n",
       "      <td>Yes</td>\n",
       "      <td>Electronic check</td>\n",
       "      <td>29.85</td>\n",
       "      <td>29.85</td>\n",
       "      <td>No</td>\n",
       "    </tr>\n",
       "    <tr>\n",
       "      <th>1</th>\n",
       "      <td>5575-GNVDE</td>\n",
       "      <td>Male</td>\n",
       "      <td>0</td>\n",
       "      <td>No</td>\n",
       "      <td>No</td>\n",
       "      <td>34</td>\n",
       "      <td>Yes</td>\n",
       "      <td>No</td>\n",
       "      <td>DSL</td>\n",
       "      <td>Yes</td>\n",
       "      <td>...</td>\n",
       "      <td>Yes</td>\n",
       "      <td>No</td>\n",
       "      <td>No</td>\n",
       "      <td>No</td>\n",
       "      <td>One year</td>\n",
       "      <td>No</td>\n",
       "      <td>Mailed check</td>\n",
       "      <td>56.95</td>\n",
       "      <td>1889.5</td>\n",
       "      <td>No</td>\n",
       "    </tr>\n",
       "    <tr>\n",
       "      <th>2</th>\n",
       "      <td>3668-QPYBK</td>\n",
       "      <td>Male</td>\n",
       "      <td>0</td>\n",
       "      <td>No</td>\n",
       "      <td>No</td>\n",
       "      <td>2</td>\n",
       "      <td>Yes</td>\n",
       "      <td>No</td>\n",
       "      <td>DSL</td>\n",
       "      <td>Yes</td>\n",
       "      <td>...</td>\n",
       "      <td>No</td>\n",
       "      <td>No</td>\n",
       "      <td>No</td>\n",
       "      <td>No</td>\n",
       "      <td>Month-to-month</td>\n",
       "      <td>Yes</td>\n",
       "      <td>Mailed check</td>\n",
       "      <td>53.85</td>\n",
       "      <td>108.15</td>\n",
       "      <td>Yes</td>\n",
       "    </tr>\n",
       "    <tr>\n",
       "      <th>3</th>\n",
       "      <td>7795-CFOCW</td>\n",
       "      <td>Male</td>\n",
       "      <td>0</td>\n",
       "      <td>No</td>\n",
       "      <td>No</td>\n",
       "      <td>45</td>\n",
       "      <td>No</td>\n",
       "      <td>No phone service</td>\n",
       "      <td>DSL</td>\n",
       "      <td>Yes</td>\n",
       "      <td>...</td>\n",
       "      <td>Yes</td>\n",
       "      <td>Yes</td>\n",
       "      <td>No</td>\n",
       "      <td>No</td>\n",
       "      <td>One year</td>\n",
       "      <td>No</td>\n",
       "      <td>Bank transfer (automatic)</td>\n",
       "      <td>42.30</td>\n",
       "      <td>1840.75</td>\n",
       "      <td>No</td>\n",
       "    </tr>\n",
       "    <tr>\n",
       "      <th>4</th>\n",
       "      <td>9237-HQITU</td>\n",
       "      <td>Female</td>\n",
       "      <td>0</td>\n",
       "      <td>No</td>\n",
       "      <td>No</td>\n",
       "      <td>2</td>\n",
       "      <td>Yes</td>\n",
       "      <td>No</td>\n",
       "      <td>Fiber optic</td>\n",
       "      <td>No</td>\n",
       "      <td>...</td>\n",
       "      <td>No</td>\n",
       "      <td>No</td>\n",
       "      <td>No</td>\n",
       "      <td>No</td>\n",
       "      <td>Month-to-month</td>\n",
       "      <td>Yes</td>\n",
       "      <td>Electronic check</td>\n",
       "      <td>70.70</td>\n",
       "      <td>151.65</td>\n",
       "      <td>Yes</td>\n",
       "    </tr>\n",
       "  </tbody>\n",
       "</table>\n",
       "<p>5 rows × 21 columns</p>\n",
       "</div>"
      ],
      "text/plain": [
       "   customerID  gender  SeniorCitizen Partner Dependents  tenure PhoneService  \\\n",
       "0  7590-VHVEG  Female              0     Yes         No       1           No   \n",
       "1  5575-GNVDE    Male              0      No         No      34          Yes   \n",
       "2  3668-QPYBK    Male              0      No         No       2          Yes   \n",
       "3  7795-CFOCW    Male              0      No         No      45           No   \n",
       "4  9237-HQITU  Female              0      No         No       2          Yes   \n",
       "\n",
       "      MultipleLines InternetService OnlineSecurity  ... DeviceProtection  \\\n",
       "0  No phone service             DSL             No  ...               No   \n",
       "1                No             DSL            Yes  ...              Yes   \n",
       "2                No             DSL            Yes  ...               No   \n",
       "3  No phone service             DSL            Yes  ...              Yes   \n",
       "4                No     Fiber optic             No  ...               No   \n",
       "\n",
       "  TechSupport StreamingTV StreamingMovies        Contract PaperlessBilling  \\\n",
       "0          No          No              No  Month-to-month              Yes   \n",
       "1          No          No              No        One year               No   \n",
       "2          No          No              No  Month-to-month              Yes   \n",
       "3         Yes          No              No        One year               No   \n",
       "4          No          No              No  Month-to-month              Yes   \n",
       "\n",
       "               PaymentMethod MonthlyCharges  TotalCharges Churn  \n",
       "0           Electronic check          29.85         29.85    No  \n",
       "1               Mailed check          56.95        1889.5    No  \n",
       "2               Mailed check          53.85        108.15   Yes  \n",
       "3  Bank transfer (automatic)          42.30       1840.75    No  \n",
       "4           Electronic check          70.70        151.65   Yes  \n",
       "\n",
       "[5 rows x 21 columns]"
      ]
     },
     "execution_count": 4,
     "metadata": {},
     "output_type": "execute_result"
    }
   ],
   "source": [
    "df.head()"
   ]
  },
  {
   "cell_type": "code",
   "execution_count": 5,
   "id": "1d810b5e-16ee-470d-95b9-62927d280684",
   "metadata": {},
   "outputs": [
    {
     "data": {
      "text/plain": [
       "(7043, 21)"
      ]
     },
     "execution_count": 5,
     "metadata": {},
     "output_type": "execute_result"
    }
   ],
   "source": [
    "# Exploring the numbers of rows and columns of data in the dataset.\n",
    "df.shape"
   ]
  },
  {
   "cell_type": "markdown",
   "id": "20139197-4705-4e55-9142-ae87e28acc87",
   "metadata": {},
   "source": [
    "### Getting more information on the data"
   ]
  },
  {
   "cell_type": "markdown",
   "id": "c3c713a7-fe8b-499c-837d-9b78acd0783f",
   "metadata": {},
   "source": [
    "Exploring the dataset and identify the data types of each column."
   ]
  },
  {
   "cell_type": "code",
   "execution_count": 6,
   "id": "7e6b8e06-d4b9-422f-a5c9-afbb176235bc",
   "metadata": {},
   "outputs": [
    {
     "name": "stdout",
     "output_type": "stream",
     "text": [
      "<class 'pandas.core.frame.DataFrame'>\n",
      "RangeIndex: 7043 entries, 0 to 7042\n",
      "Data columns (total 21 columns):\n",
      " #   Column            Non-Null Count  Dtype  \n",
      "---  ------            --------------  -----  \n",
      " 0   customerID        7043 non-null   object \n",
      " 1   gender            7043 non-null   object \n",
      " 2   SeniorCitizen     7043 non-null   int64  \n",
      " 3   Partner           7043 non-null   object \n",
      " 4   Dependents        7043 non-null   object \n",
      " 5   tenure            7043 non-null   int64  \n",
      " 6   PhoneService      7043 non-null   object \n",
      " 7   MultipleLines     7043 non-null   object \n",
      " 8   InternetService   7043 non-null   object \n",
      " 9   OnlineSecurity    7043 non-null   object \n",
      " 10  OnlineBackup      7043 non-null   object \n",
      " 11  DeviceProtection  7043 non-null   object \n",
      " 12  TechSupport       7043 non-null   object \n",
      " 13  StreamingTV       7043 non-null   object \n",
      " 14  StreamingMovies   7043 non-null   object \n",
      " 15  Contract          7043 non-null   object \n",
      " 16  PaperlessBilling  7043 non-null   object \n",
      " 17  PaymentMethod     7043 non-null   object \n",
      " 18  MonthlyCharges    7043 non-null   float64\n",
      " 19  TotalCharges      7043 non-null   object \n",
      " 20  Churn             7043 non-null   object \n",
      "dtypes: float64(1), int64(2), object(18)\n",
      "memory usage: 1.1+ MB\n"
     ]
    }
   ],
   "source": [
    "df.info()"
   ]
  },
  {
   "cell_type": "markdown",
   "id": "55bf705c-a18e-4768-abc2-ffbf16f5be59",
   "metadata": {},
   "source": [
    "\n",
    "Note:\n",
    "* The data set have 7043 observation and 21 variable.\n",
    "* There is no missing data\n",
    "* TotalCharges is an object datatype, from observation, this should be numerical data type (float or int) "
   ]
  },
  {
   "cell_type": "code",
   "execution_count": 7,
   "id": "f14d0d4a-16bf-4646-9161-aa9bae5530f3",
   "metadata": {},
   "outputs": [
    {
     "name": "stdout",
     "output_type": "stream",
     "text": [
      "<class 'pandas.core.frame.DataFrame'>\n",
      "RangeIndex: 7043 entries, 0 to 7042\n",
      "Data columns (total 21 columns):\n",
      " #   Column            Non-Null Count  Dtype  \n",
      "---  ------            --------------  -----  \n",
      " 0   customerID        7043 non-null   object \n",
      " 1   gender            7043 non-null   object \n",
      " 2   SeniorCitizen     7043 non-null   int64  \n",
      " 3   Partner           7043 non-null   object \n",
      " 4   Dependents        7043 non-null   object \n",
      " 5   tenure            7043 non-null   int64  \n",
      " 6   PhoneService      7043 non-null   object \n",
      " 7   MultipleLines     7043 non-null   object \n",
      " 8   InternetService   7043 non-null   object \n",
      " 9   OnlineSecurity    7043 non-null   object \n",
      " 10  OnlineBackup      7043 non-null   object \n",
      " 11  DeviceProtection  7043 non-null   object \n",
      " 12  TechSupport       7043 non-null   object \n",
      " 13  StreamingTV       7043 non-null   object \n",
      " 14  StreamingMovies   7043 non-null   object \n",
      " 15  Contract          7043 non-null   object \n",
      " 16  PaperlessBilling  7043 non-null   object \n",
      " 17  PaymentMethod     7043 non-null   object \n",
      " 18  MonthlyCharges    7043 non-null   float64\n",
      " 19  TotalCharges      7032 non-null   float64\n",
      " 20  Churn             7043 non-null   object \n",
      "dtypes: float64(2), int64(2), object(17)\n",
      "memory usage: 1.1+ MB\n"
     ]
    }
   ],
   "source": [
    "# changing the data type of TotalCharges from object to float and printing data types of all the columns to confirm change.\n",
    "df[\"TotalCharges\"] = pd.to_numeric(df[\"TotalCharges\"], errors='coerce')\n",
    "df[\"TotalCharges\"] = df[\"TotalCharges\"].astype(\"float\")\n",
    "\n",
    "# print the list of column and their data type to confirmed that totalcharges has been changed to a numerical datatype.\n",
    "df.info()"
   ]
  },
  {
   "cell_type": "markdown",
   "id": "6a1ed5f2-6d19-462a-86d6-ed3aaba2e0b8",
   "metadata": {},
   "source": [
    "## Data Wrangling"
   ]
  },
  {
   "cell_type": "markdown",
   "id": "7d5b6955-e3a7-4cb1-a196-b4e5b0e9dcdb",
   "metadata": {},
   "source": [
    "### Searching duplicates Values"
   ]
  },
  {
   "cell_type": "code",
   "execution_count": 8,
   "id": "6e3013ae-f39f-4953-a25e-65796d41f3d3",
   "metadata": {},
   "outputs": [
    {
     "data": {
      "text/plain": [
       "False    7043\n",
       "Name: count, dtype: int64"
      ]
     },
     "execution_count": 8,
     "metadata": {},
     "output_type": "execute_result"
    }
   ],
   "source": [
    "df.duplicated().value_counts()"
   ]
  },
  {
   "cell_type": "markdown",
   "id": "a2ebb8bd-e9af-4964-8c00-e6936ae0002e",
   "metadata": {},
   "source": [
    "No duplicate find"
   ]
  },
  {
   "cell_type": "markdown",
   "id": "3ae4eec4-ba8b-4436-b5df-6b5bd0e6be98",
   "metadata": {},
   "source": [
    "### Searching Missing Values"
   ]
  },
  {
   "cell_type": "code",
   "execution_count": 9,
   "id": "a694ee78-6110-44bd-b0f4-66384e4a1384",
   "metadata": {},
   "outputs": [
    {
     "data": {
      "text/plain": [
       "customerID           0\n",
       "gender               0\n",
       "SeniorCitizen        0\n",
       "Partner              0\n",
       "Dependents           0\n",
       "tenure               0\n",
       "PhoneService         0\n",
       "MultipleLines        0\n",
       "InternetService      0\n",
       "OnlineSecurity       0\n",
       "OnlineBackup         0\n",
       "DeviceProtection     0\n",
       "TechSupport          0\n",
       "StreamingTV          0\n",
       "StreamingMovies      0\n",
       "Contract             0\n",
       "PaperlessBilling     0\n",
       "PaymentMethod        0\n",
       "MonthlyCharges       0\n",
       "TotalCharges        11\n",
       "Churn                0\n",
       "dtype: int64"
      ]
     },
     "execution_count": 9,
     "metadata": {},
     "output_type": "execute_result"
    }
   ],
   "source": [
    "missing_data = df.isnull().sum()\n",
    "missing_data"
   ]
  },
  {
   "cell_type": "markdown",
   "id": "115cb8c9-9dde-46e3-8d6d-fb7a2f6b43c3",
   "metadata": {},
   "source": [
    "Based on the above result, it can be observed that TotalCharges, have 11 missing data.\n",
    "> This has no baring on feature of interesting, and in this instance it will be largely ignore. But explored to find the reason of the missing data."
   ]
  },
  {
   "cell_type": "markdown",
   "id": "24f82de3-611e-46a0-97ac-064e18f7069f",
   "metadata": {},
   "source": [
    "#### Finding line with the missing values"
   ]
  },
  {
   "cell_type": "code",
   "execution_count": 10,
   "id": "f039d67b-540c-47b3-a38b-fbc4144aba3b",
   "metadata": {},
   "outputs": [
    {
     "data": {
      "text/html": [
       "<div>\n",
       "<style scoped>\n",
       "    .dataframe tbody tr th:only-of-type {\n",
       "        vertical-align: middle;\n",
       "    }\n",
       "\n",
       "    .dataframe tbody tr th {\n",
       "        vertical-align: top;\n",
       "    }\n",
       "\n",
       "    .dataframe thead th {\n",
       "        text-align: right;\n",
       "    }\n",
       "</style>\n",
       "<table border=\"1\" class=\"dataframe\">\n",
       "  <thead>\n",
       "    <tr style=\"text-align: right;\">\n",
       "      <th></th>\n",
       "      <th>customerID</th>\n",
       "      <th>gender</th>\n",
       "      <th>SeniorCitizen</th>\n",
       "      <th>Partner</th>\n",
       "      <th>Dependents</th>\n",
       "      <th>tenure</th>\n",
       "      <th>PhoneService</th>\n",
       "      <th>MultipleLines</th>\n",
       "      <th>InternetService</th>\n",
       "      <th>OnlineSecurity</th>\n",
       "      <th>...</th>\n",
       "      <th>DeviceProtection</th>\n",
       "      <th>TechSupport</th>\n",
       "      <th>StreamingTV</th>\n",
       "      <th>StreamingMovies</th>\n",
       "      <th>Contract</th>\n",
       "      <th>PaperlessBilling</th>\n",
       "      <th>PaymentMethod</th>\n",
       "      <th>MonthlyCharges</th>\n",
       "      <th>TotalCharges</th>\n",
       "      <th>Churn</th>\n",
       "    </tr>\n",
       "  </thead>\n",
       "  <tbody>\n",
       "    <tr>\n",
       "      <th>488</th>\n",
       "      <td>4472-LVYGI</td>\n",
       "      <td>Female</td>\n",
       "      <td>0</td>\n",
       "      <td>Yes</td>\n",
       "      <td>Yes</td>\n",
       "      <td>0</td>\n",
       "      <td>No</td>\n",
       "      <td>No phone service</td>\n",
       "      <td>DSL</td>\n",
       "      <td>Yes</td>\n",
       "      <td>...</td>\n",
       "      <td>Yes</td>\n",
       "      <td>Yes</td>\n",
       "      <td>Yes</td>\n",
       "      <td>No</td>\n",
       "      <td>Two year</td>\n",
       "      <td>Yes</td>\n",
       "      <td>Bank transfer (automatic)</td>\n",
       "      <td>52.55</td>\n",
       "      <td>NaN</td>\n",
       "      <td>No</td>\n",
       "    </tr>\n",
       "    <tr>\n",
       "      <th>753</th>\n",
       "      <td>3115-CZMZD</td>\n",
       "      <td>Male</td>\n",
       "      <td>0</td>\n",
       "      <td>No</td>\n",
       "      <td>Yes</td>\n",
       "      <td>0</td>\n",
       "      <td>Yes</td>\n",
       "      <td>No</td>\n",
       "      <td>No</td>\n",
       "      <td>No internet service</td>\n",
       "      <td>...</td>\n",
       "      <td>No internet service</td>\n",
       "      <td>No internet service</td>\n",
       "      <td>No internet service</td>\n",
       "      <td>No internet service</td>\n",
       "      <td>Two year</td>\n",
       "      <td>No</td>\n",
       "      <td>Mailed check</td>\n",
       "      <td>20.25</td>\n",
       "      <td>NaN</td>\n",
       "      <td>No</td>\n",
       "    </tr>\n",
       "    <tr>\n",
       "      <th>936</th>\n",
       "      <td>5709-LVOEQ</td>\n",
       "      <td>Female</td>\n",
       "      <td>0</td>\n",
       "      <td>Yes</td>\n",
       "      <td>Yes</td>\n",
       "      <td>0</td>\n",
       "      <td>Yes</td>\n",
       "      <td>No</td>\n",
       "      <td>DSL</td>\n",
       "      <td>Yes</td>\n",
       "      <td>...</td>\n",
       "      <td>Yes</td>\n",
       "      <td>No</td>\n",
       "      <td>Yes</td>\n",
       "      <td>Yes</td>\n",
       "      <td>Two year</td>\n",
       "      <td>No</td>\n",
       "      <td>Mailed check</td>\n",
       "      <td>80.85</td>\n",
       "      <td>NaN</td>\n",
       "      <td>No</td>\n",
       "    </tr>\n",
       "    <tr>\n",
       "      <th>1082</th>\n",
       "      <td>4367-NUYAO</td>\n",
       "      <td>Male</td>\n",
       "      <td>0</td>\n",
       "      <td>Yes</td>\n",
       "      <td>Yes</td>\n",
       "      <td>0</td>\n",
       "      <td>Yes</td>\n",
       "      <td>Yes</td>\n",
       "      <td>No</td>\n",
       "      <td>No internet service</td>\n",
       "      <td>...</td>\n",
       "      <td>No internet service</td>\n",
       "      <td>No internet service</td>\n",
       "      <td>No internet service</td>\n",
       "      <td>No internet service</td>\n",
       "      <td>Two year</td>\n",
       "      <td>No</td>\n",
       "      <td>Mailed check</td>\n",
       "      <td>25.75</td>\n",
       "      <td>NaN</td>\n",
       "      <td>No</td>\n",
       "    </tr>\n",
       "    <tr>\n",
       "      <th>1340</th>\n",
       "      <td>1371-DWPAZ</td>\n",
       "      <td>Female</td>\n",
       "      <td>0</td>\n",
       "      <td>Yes</td>\n",
       "      <td>Yes</td>\n",
       "      <td>0</td>\n",
       "      <td>No</td>\n",
       "      <td>No phone service</td>\n",
       "      <td>DSL</td>\n",
       "      <td>Yes</td>\n",
       "      <td>...</td>\n",
       "      <td>Yes</td>\n",
       "      <td>Yes</td>\n",
       "      <td>Yes</td>\n",
       "      <td>No</td>\n",
       "      <td>Two year</td>\n",
       "      <td>No</td>\n",
       "      <td>Credit card (automatic)</td>\n",
       "      <td>56.05</td>\n",
       "      <td>NaN</td>\n",
       "      <td>No</td>\n",
       "    </tr>\n",
       "    <tr>\n",
       "      <th>3331</th>\n",
       "      <td>7644-OMVMY</td>\n",
       "      <td>Male</td>\n",
       "      <td>0</td>\n",
       "      <td>Yes</td>\n",
       "      <td>Yes</td>\n",
       "      <td>0</td>\n",
       "      <td>Yes</td>\n",
       "      <td>No</td>\n",
       "      <td>No</td>\n",
       "      <td>No internet service</td>\n",
       "      <td>...</td>\n",
       "      <td>No internet service</td>\n",
       "      <td>No internet service</td>\n",
       "      <td>No internet service</td>\n",
       "      <td>No internet service</td>\n",
       "      <td>Two year</td>\n",
       "      <td>No</td>\n",
       "      <td>Mailed check</td>\n",
       "      <td>19.85</td>\n",
       "      <td>NaN</td>\n",
       "      <td>No</td>\n",
       "    </tr>\n",
       "    <tr>\n",
       "      <th>3826</th>\n",
       "      <td>3213-VVOLG</td>\n",
       "      <td>Male</td>\n",
       "      <td>0</td>\n",
       "      <td>Yes</td>\n",
       "      <td>Yes</td>\n",
       "      <td>0</td>\n",
       "      <td>Yes</td>\n",
       "      <td>Yes</td>\n",
       "      <td>No</td>\n",
       "      <td>No internet service</td>\n",
       "      <td>...</td>\n",
       "      <td>No internet service</td>\n",
       "      <td>No internet service</td>\n",
       "      <td>No internet service</td>\n",
       "      <td>No internet service</td>\n",
       "      <td>Two year</td>\n",
       "      <td>No</td>\n",
       "      <td>Mailed check</td>\n",
       "      <td>25.35</td>\n",
       "      <td>NaN</td>\n",
       "      <td>No</td>\n",
       "    </tr>\n",
       "    <tr>\n",
       "      <th>4380</th>\n",
       "      <td>2520-SGTTA</td>\n",
       "      <td>Female</td>\n",
       "      <td>0</td>\n",
       "      <td>Yes</td>\n",
       "      <td>Yes</td>\n",
       "      <td>0</td>\n",
       "      <td>Yes</td>\n",
       "      <td>No</td>\n",
       "      <td>No</td>\n",
       "      <td>No internet service</td>\n",
       "      <td>...</td>\n",
       "      <td>No internet service</td>\n",
       "      <td>No internet service</td>\n",
       "      <td>No internet service</td>\n",
       "      <td>No internet service</td>\n",
       "      <td>Two year</td>\n",
       "      <td>No</td>\n",
       "      <td>Mailed check</td>\n",
       "      <td>20.00</td>\n",
       "      <td>NaN</td>\n",
       "      <td>No</td>\n",
       "    </tr>\n",
       "    <tr>\n",
       "      <th>5218</th>\n",
       "      <td>2923-ARZLG</td>\n",
       "      <td>Male</td>\n",
       "      <td>0</td>\n",
       "      <td>Yes</td>\n",
       "      <td>Yes</td>\n",
       "      <td>0</td>\n",
       "      <td>Yes</td>\n",
       "      <td>No</td>\n",
       "      <td>No</td>\n",
       "      <td>No internet service</td>\n",
       "      <td>...</td>\n",
       "      <td>No internet service</td>\n",
       "      <td>No internet service</td>\n",
       "      <td>No internet service</td>\n",
       "      <td>No internet service</td>\n",
       "      <td>One year</td>\n",
       "      <td>Yes</td>\n",
       "      <td>Mailed check</td>\n",
       "      <td>19.70</td>\n",
       "      <td>NaN</td>\n",
       "      <td>No</td>\n",
       "    </tr>\n",
       "    <tr>\n",
       "      <th>6670</th>\n",
       "      <td>4075-WKNIU</td>\n",
       "      <td>Female</td>\n",
       "      <td>0</td>\n",
       "      <td>Yes</td>\n",
       "      <td>Yes</td>\n",
       "      <td>0</td>\n",
       "      <td>Yes</td>\n",
       "      <td>Yes</td>\n",
       "      <td>DSL</td>\n",
       "      <td>No</td>\n",
       "      <td>...</td>\n",
       "      <td>Yes</td>\n",
       "      <td>Yes</td>\n",
       "      <td>Yes</td>\n",
       "      <td>No</td>\n",
       "      <td>Two year</td>\n",
       "      <td>No</td>\n",
       "      <td>Mailed check</td>\n",
       "      <td>73.35</td>\n",
       "      <td>NaN</td>\n",
       "      <td>No</td>\n",
       "    </tr>\n",
       "    <tr>\n",
       "      <th>6754</th>\n",
       "      <td>2775-SEFEE</td>\n",
       "      <td>Male</td>\n",
       "      <td>0</td>\n",
       "      <td>No</td>\n",
       "      <td>Yes</td>\n",
       "      <td>0</td>\n",
       "      <td>Yes</td>\n",
       "      <td>Yes</td>\n",
       "      <td>DSL</td>\n",
       "      <td>Yes</td>\n",
       "      <td>...</td>\n",
       "      <td>No</td>\n",
       "      <td>Yes</td>\n",
       "      <td>No</td>\n",
       "      <td>No</td>\n",
       "      <td>Two year</td>\n",
       "      <td>Yes</td>\n",
       "      <td>Bank transfer (automatic)</td>\n",
       "      <td>61.90</td>\n",
       "      <td>NaN</td>\n",
       "      <td>No</td>\n",
       "    </tr>\n",
       "  </tbody>\n",
       "</table>\n",
       "<p>11 rows × 21 columns</p>\n",
       "</div>"
      ],
      "text/plain": [
       "      customerID  gender  SeniorCitizen Partner Dependents  tenure  \\\n",
       "488   4472-LVYGI  Female              0     Yes        Yes       0   \n",
       "753   3115-CZMZD    Male              0      No        Yes       0   \n",
       "936   5709-LVOEQ  Female              0     Yes        Yes       0   \n",
       "1082  4367-NUYAO    Male              0     Yes        Yes       0   \n",
       "1340  1371-DWPAZ  Female              0     Yes        Yes       0   \n",
       "3331  7644-OMVMY    Male              0     Yes        Yes       0   \n",
       "3826  3213-VVOLG    Male              0     Yes        Yes       0   \n",
       "4380  2520-SGTTA  Female              0     Yes        Yes       0   \n",
       "5218  2923-ARZLG    Male              0     Yes        Yes       0   \n",
       "6670  4075-WKNIU  Female              0     Yes        Yes       0   \n",
       "6754  2775-SEFEE    Male              0      No        Yes       0   \n",
       "\n",
       "     PhoneService     MultipleLines InternetService       OnlineSecurity  ...  \\\n",
       "488            No  No phone service             DSL                  Yes  ...   \n",
       "753           Yes                No              No  No internet service  ...   \n",
       "936           Yes                No             DSL                  Yes  ...   \n",
       "1082          Yes               Yes              No  No internet service  ...   \n",
       "1340           No  No phone service             DSL                  Yes  ...   \n",
       "3331          Yes                No              No  No internet service  ...   \n",
       "3826          Yes               Yes              No  No internet service  ...   \n",
       "4380          Yes                No              No  No internet service  ...   \n",
       "5218          Yes                No              No  No internet service  ...   \n",
       "6670          Yes               Yes             DSL                   No  ...   \n",
       "6754          Yes               Yes             DSL                  Yes  ...   \n",
       "\n",
       "         DeviceProtection          TechSupport          StreamingTV  \\\n",
       "488                   Yes                  Yes                  Yes   \n",
       "753   No internet service  No internet service  No internet service   \n",
       "936                   Yes                   No                  Yes   \n",
       "1082  No internet service  No internet service  No internet service   \n",
       "1340                  Yes                  Yes                  Yes   \n",
       "3331  No internet service  No internet service  No internet service   \n",
       "3826  No internet service  No internet service  No internet service   \n",
       "4380  No internet service  No internet service  No internet service   \n",
       "5218  No internet service  No internet service  No internet service   \n",
       "6670                  Yes                  Yes                  Yes   \n",
       "6754                   No                  Yes                   No   \n",
       "\n",
       "          StreamingMovies  Contract PaperlessBilling  \\\n",
       "488                    No  Two year              Yes   \n",
       "753   No internet service  Two year               No   \n",
       "936                   Yes  Two year               No   \n",
       "1082  No internet service  Two year               No   \n",
       "1340                   No  Two year               No   \n",
       "3331  No internet service  Two year               No   \n",
       "3826  No internet service  Two year               No   \n",
       "4380  No internet service  Two year               No   \n",
       "5218  No internet service  One year              Yes   \n",
       "6670                   No  Two year               No   \n",
       "6754                   No  Two year              Yes   \n",
       "\n",
       "                  PaymentMethod MonthlyCharges  TotalCharges  Churn  \n",
       "488   Bank transfer (automatic)          52.55           NaN     No  \n",
       "753                Mailed check          20.25           NaN     No  \n",
       "936                Mailed check          80.85           NaN     No  \n",
       "1082               Mailed check          25.75           NaN     No  \n",
       "1340    Credit card (automatic)          56.05           NaN     No  \n",
       "3331               Mailed check          19.85           NaN     No  \n",
       "3826               Mailed check          25.35           NaN     No  \n",
       "4380               Mailed check          20.00           NaN     No  \n",
       "5218               Mailed check          19.70           NaN     No  \n",
       "6670               Mailed check          73.35           NaN     No  \n",
       "6754  Bank transfer (automatic)          61.90           NaN     No  \n",
       "\n",
       "[11 rows x 21 columns]"
      ]
     },
     "execution_count": 10,
     "metadata": {},
     "output_type": "execute_result"
    }
   ],
   "source": [
    "null_mask = df.isnull().any(axis=1)\n",
    "null_rows = df[null_mask]\n",
    "\n",
    "null_rows"
   ]
  },
  {
   "cell_type": "markdown",
   "id": "4b28b04b-7e47-4fc0-96af-dae4632329be",
   "metadata": {},
   "source": [
    "From the observation of the table above, the conclusion is the missing data are for new customer at the beginning of their contract, as a result have zero tenure, and consequently have no total charge record."
   ]
  },
  {
   "cell_type": "markdown",
   "id": "be274ae2-b949-40c3-bee6-07b46ff69d4b",
   "metadata": {},
   "source": [
    "## Analysis Services Aspect of the Dataset"
   ]
  },
  {
   "cell_type": "markdown",
   "id": "84bc8715-284c-41e5-b8c1-f285137a57fa",
   "metadata": {},
   "source": [
    "### Selecting features of Interest"
   ]
  },
  {
   "cell_type": "code",
   "execution_count": 11,
   "id": "ff93bcbc-1536-46f3-9b31-353eec6d41a7",
   "metadata": {},
   "outputs": [
    {
     "data": {
      "text/html": [
       "<div>\n",
       "<style scoped>\n",
       "    .dataframe tbody tr th:only-of-type {\n",
       "        vertical-align: middle;\n",
       "    }\n",
       "\n",
       "    .dataframe tbody tr th {\n",
       "        vertical-align: top;\n",
       "    }\n",
       "\n",
       "    .dataframe thead th {\n",
       "        text-align: right;\n",
       "    }\n",
       "</style>\n",
       "<table border=\"1\" class=\"dataframe\">\n",
       "  <thead>\n",
       "    <tr style=\"text-align: right;\">\n",
       "      <th></th>\n",
       "      <th>PhoneService</th>\n",
       "      <th>MultipleLines</th>\n",
       "      <th>InternetService</th>\n",
       "      <th>OnlineSecurity</th>\n",
       "      <th>OnlineBackup</th>\n",
       "      <th>DeviceProtection</th>\n",
       "      <th>TechSupport</th>\n",
       "      <th>StreamingTV</th>\n",
       "      <th>StreamingMovies</th>\n",
       "      <th>Churn</th>\n",
       "    </tr>\n",
       "  </thead>\n",
       "  <tbody>\n",
       "    <tr>\n",
       "      <th>0</th>\n",
       "      <td>No</td>\n",
       "      <td>No phone service</td>\n",
       "      <td>DSL</td>\n",
       "      <td>No</td>\n",
       "      <td>Yes</td>\n",
       "      <td>No</td>\n",
       "      <td>No</td>\n",
       "      <td>No</td>\n",
       "      <td>No</td>\n",
       "      <td>No</td>\n",
       "    </tr>\n",
       "    <tr>\n",
       "      <th>1</th>\n",
       "      <td>Yes</td>\n",
       "      <td>No</td>\n",
       "      <td>DSL</td>\n",
       "      <td>Yes</td>\n",
       "      <td>No</td>\n",
       "      <td>Yes</td>\n",
       "      <td>No</td>\n",
       "      <td>No</td>\n",
       "      <td>No</td>\n",
       "      <td>No</td>\n",
       "    </tr>\n",
       "    <tr>\n",
       "      <th>2</th>\n",
       "      <td>Yes</td>\n",
       "      <td>No</td>\n",
       "      <td>DSL</td>\n",
       "      <td>Yes</td>\n",
       "      <td>Yes</td>\n",
       "      <td>No</td>\n",
       "      <td>No</td>\n",
       "      <td>No</td>\n",
       "      <td>No</td>\n",
       "      <td>Yes</td>\n",
       "    </tr>\n",
       "    <tr>\n",
       "      <th>3</th>\n",
       "      <td>No</td>\n",
       "      <td>No phone service</td>\n",
       "      <td>DSL</td>\n",
       "      <td>Yes</td>\n",
       "      <td>No</td>\n",
       "      <td>Yes</td>\n",
       "      <td>Yes</td>\n",
       "      <td>No</td>\n",
       "      <td>No</td>\n",
       "      <td>No</td>\n",
       "    </tr>\n",
       "    <tr>\n",
       "      <th>4</th>\n",
       "      <td>Yes</td>\n",
       "      <td>No</td>\n",
       "      <td>Fiber optic</td>\n",
       "      <td>No</td>\n",
       "      <td>No</td>\n",
       "      <td>No</td>\n",
       "      <td>No</td>\n",
       "      <td>No</td>\n",
       "      <td>No</td>\n",
       "      <td>Yes</td>\n",
       "    </tr>\n",
       "  </tbody>\n",
       "</table>\n",
       "</div>"
      ],
      "text/plain": [
       "  PhoneService     MultipleLines InternetService OnlineSecurity OnlineBackup  \\\n",
       "0           No  No phone service             DSL             No          Yes   \n",
       "1          Yes                No             DSL            Yes           No   \n",
       "2          Yes                No             DSL            Yes          Yes   \n",
       "3           No  No phone service             DSL            Yes           No   \n",
       "4          Yes                No     Fiber optic             No           No   \n",
       "\n",
       "  DeviceProtection TechSupport StreamingTV StreamingMovies Churn  \n",
       "0               No          No          No              No    No  \n",
       "1              Yes          No          No              No    No  \n",
       "2               No          No          No              No   Yes  \n",
       "3              Yes         Yes          No              No    No  \n",
       "4               No          No          No              No   Yes  "
      ]
     },
     "execution_count": 11,
     "metadata": {},
     "output_type": "execute_result"
    }
   ],
   "source": [
    "Services_data = df[['PhoneService', 'MultipleLines', 'InternetService', 'OnlineSecurity', 'OnlineBackup', 'DeviceProtection',\n",
    "                    'TechSupport','StreamingTV', 'StreamingMovies', 'Churn']]\n",
    "Services_data.head()"
   ]
  },
  {
   "cell_type": "markdown",
   "id": "a2d5d872-72f3-4648-87de-26afd5a9b9c6",
   "metadata": {},
   "source": [
    "The two core services are Phone and Internet service. Multiple lines is dependent on Phone service, customer without phone services cannot have multiple lines. Likewise, other services; Online Security, Online Backup, Device Protection, Tech Support, Streaming TV, Streaming Movies are dependent on Internet services. "
   ]
  },
  {
   "cell_type": "markdown",
   "id": "d2b6c1ef-45ae-44e4-b681-a1e1cb7a6f88",
   "metadata": {},
   "source": [
    "### Analysis Phone Service"
   ]
  },
  {
   "cell_type": "code",
   "execution_count": 12,
   "id": "22dcad5a-76a3-40fe-806b-810a3e21b46d",
   "metadata": {},
   "outputs": [],
   "source": [
    "category_mapping = {'Yes':'Phone line','No':'No phone service'}\n",
    "Services_data.loc[:, 'PhoneService'] = Services_data['PhoneService'].map(category_mapping)"
   ]
  },
  {
   "cell_type": "code",
   "execution_count": 13,
   "id": "ed2d5aa0-446a-4984-b93a-1e10fca65c03",
   "metadata": {},
   "outputs": [
    {
     "data": {
      "text/html": [
       "<div>\n",
       "<style scoped>\n",
       "    .dataframe tbody tr th:only-of-type {\n",
       "        vertical-align: middle;\n",
       "    }\n",
       "\n",
       "    .dataframe tbody tr th {\n",
       "        vertical-align: top;\n",
       "    }\n",
       "\n",
       "    .dataframe thead th {\n",
       "        text-align: right;\n",
       "    }\n",
       "</style>\n",
       "<table border=\"1\" class=\"dataframe\">\n",
       "  <thead>\n",
       "    <tr style=\"text-align: right;\">\n",
       "      <th></th>\n",
       "      <th>PhoneService</th>\n",
       "      <th>count</th>\n",
       "    </tr>\n",
       "  </thead>\n",
       "  <tbody>\n",
       "    <tr>\n",
       "      <th>0</th>\n",
       "      <td>Phone line</td>\n",
       "      <td>6361</td>\n",
       "    </tr>\n",
       "    <tr>\n",
       "      <th>1</th>\n",
       "      <td>No phone service</td>\n",
       "      <td>682</td>\n",
       "    </tr>\n",
       "  </tbody>\n",
       "</table>\n",
       "</div>"
      ],
      "text/plain": [
       "       PhoneService  count\n",
       "0        Phone line   6361\n",
       "1  No phone service    682"
      ]
     },
     "execution_count": 13,
     "metadata": {},
     "output_type": "execute_result"
    }
   ],
   "source": [
    "Services_data['PhoneService'].value_counts().reset_index()"
   ]
  },
  {
   "cell_type": "code",
   "execution_count": 14,
   "id": "f31b2165-6f55-4624-801b-ca3c135eff5e",
   "metadata": {},
   "outputs": [
    {
     "data": {
      "text/html": [
       "<div>\n",
       "<style scoped>\n",
       "    .dataframe tbody tr th:only-of-type {\n",
       "        vertical-align: middle;\n",
       "    }\n",
       "\n",
       "    .dataframe tbody tr th {\n",
       "        vertical-align: top;\n",
       "    }\n",
       "\n",
       "    .dataframe thead th {\n",
       "        text-align: right;\n",
       "    }\n",
       "</style>\n",
       "<table border=\"1\" class=\"dataframe\">\n",
       "  <thead>\n",
       "    <tr style=\"text-align: right;\">\n",
       "      <th></th>\n",
       "      <th>MultipleLines</th>\n",
       "      <th>count</th>\n",
       "    </tr>\n",
       "  </thead>\n",
       "  <tbody>\n",
       "    <tr>\n",
       "      <th>0</th>\n",
       "      <td>No</td>\n",
       "      <td>3390</td>\n",
       "    </tr>\n",
       "    <tr>\n",
       "      <th>1</th>\n",
       "      <td>Yes</td>\n",
       "      <td>2971</td>\n",
       "    </tr>\n",
       "    <tr>\n",
       "      <th>2</th>\n",
       "      <td>No phone service</td>\n",
       "      <td>682</td>\n",
       "    </tr>\n",
       "  </tbody>\n",
       "</table>\n",
       "</div>"
      ],
      "text/plain": [
       "      MultipleLines  count\n",
       "0                No   3390\n",
       "1               Yes   2971\n",
       "2  No phone service    682"
      ]
     },
     "execution_count": 14,
     "metadata": {},
     "output_type": "execute_result"
    }
   ],
   "source": [
    "Services_data['MultipleLines'].value_counts().reset_index()"
   ]
  },
  {
   "cell_type": "code",
   "execution_count": 15,
   "id": "7a9e8ab2-9b72-4290-83ce-7ca7280d7780",
   "metadata": {},
   "outputs": [
    {
     "data": {
      "text/plain": [
       "9332"
      ]
     },
     "execution_count": 15,
     "metadata": {},
     "output_type": "execute_result"
    }
   ],
   "source": [
    "# Number of phone services provided\n",
    "Number_of_phone_services = (Services_data['PhoneService'].value_counts().reset_index().loc[0, 'count'] + \n",
    "                            Services_data['MultipleLines'].value_counts().reset_index().loc[1, 'count'])\n",
    "\n",
    "Number_of_phone_services"
   ]
  },
  {
   "cell_type": "code",
   "execution_count": 16,
   "id": "cc6d77e2-3fd5-4e26-9188-b302082895ba",
   "metadata": {},
   "outputs": [
    {
     "data": {
      "text/html": [
       "<div>\n",
       "<style scoped>\n",
       "    .dataframe tbody tr th:only-of-type {\n",
       "        vertical-align: middle;\n",
       "    }\n",
       "\n",
       "    .dataframe tbody tr th {\n",
       "        vertical-align: top;\n",
       "    }\n",
       "\n",
       "    .dataframe thead th {\n",
       "        text-align: right;\n",
       "    }\n",
       "</style>\n",
       "<table border=\"1\" class=\"dataframe\">\n",
       "  <thead>\n",
       "    <tr style=\"text-align: right;\">\n",
       "      <th></th>\n",
       "      <th>PhoneService</th>\n",
       "      <th>Churn</th>\n",
       "      <th>count</th>\n",
       "    </tr>\n",
       "  </thead>\n",
       "  <tbody>\n",
       "    <tr>\n",
       "      <th>0</th>\n",
       "      <td>Phone line</td>\n",
       "      <td>No</td>\n",
       "      <td>4662</td>\n",
       "    </tr>\n",
       "    <tr>\n",
       "      <th>1</th>\n",
       "      <td>Phone line</td>\n",
       "      <td>Yes</td>\n",
       "      <td>1699</td>\n",
       "    </tr>\n",
       "    <tr>\n",
       "      <th>2</th>\n",
       "      <td>No phone service</td>\n",
       "      <td>No</td>\n",
       "      <td>512</td>\n",
       "    </tr>\n",
       "    <tr>\n",
       "      <th>3</th>\n",
       "      <td>No phone service</td>\n",
       "      <td>Yes</td>\n",
       "      <td>170</td>\n",
       "    </tr>\n",
       "  </tbody>\n",
       "</table>\n",
       "</div>"
      ],
      "text/plain": [
       "       PhoneService Churn  count\n",
       "0        Phone line    No   4662\n",
       "1        Phone line   Yes   1699\n",
       "2  No phone service    No    512\n",
       "3  No phone service   Yes    170"
      ]
     },
     "execution_count": 16,
     "metadata": {},
     "output_type": "execute_result"
    }
   ],
   "source": [
    "Service_Phone = Services_data[['PhoneService','Churn']].value_counts().reset_index()\n",
    "Service_Phone"
   ]
  },
  {
   "cell_type": "code",
   "execution_count": 17,
   "id": "ea8892ec-0faf-400e-b9d1-1c1ec64d34c4",
   "metadata": {},
   "outputs": [
    {
     "data": {
      "text/html": [
       "<div>\n",
       "<style scoped>\n",
       "    .dataframe tbody tr th:only-of-type {\n",
       "        vertical-align: middle;\n",
       "    }\n",
       "\n",
       "    .dataframe tbody tr th {\n",
       "        vertical-align: top;\n",
       "    }\n",
       "\n",
       "    .dataframe thead th {\n",
       "        text-align: right;\n",
       "    }\n",
       "</style>\n",
       "<table border=\"1\" class=\"dataframe\">\n",
       "  <thead>\n",
       "    <tr style=\"text-align: right;\">\n",
       "      <th></th>\n",
       "      <th>PhoneService</th>\n",
       "      <th>MultipleLines</th>\n",
       "      <th>Churn</th>\n",
       "      <th>count</th>\n",
       "    </tr>\n",
       "  </thead>\n",
       "  <tbody>\n",
       "    <tr>\n",
       "      <th>0</th>\n",
       "      <td>No phone service</td>\n",
       "      <td>No phone service</td>\n",
       "      <td>No</td>\n",
       "      <td>512</td>\n",
       "    </tr>\n",
       "    <tr>\n",
       "      <th>1</th>\n",
       "      <td>No phone service</td>\n",
       "      <td>No phone service</td>\n",
       "      <td>Yes</td>\n",
       "      <td>170</td>\n",
       "    </tr>\n",
       "    <tr>\n",
       "      <th>2</th>\n",
       "      <td>Phone line</td>\n",
       "      <td>No</td>\n",
       "      <td>No</td>\n",
       "      <td>2541</td>\n",
       "    </tr>\n",
       "    <tr>\n",
       "      <th>3</th>\n",
       "      <td>Phone line</td>\n",
       "      <td>No</td>\n",
       "      <td>Yes</td>\n",
       "      <td>849</td>\n",
       "    </tr>\n",
       "    <tr>\n",
       "      <th>4</th>\n",
       "      <td>Phone line</td>\n",
       "      <td>Yes</td>\n",
       "      <td>No</td>\n",
       "      <td>2121</td>\n",
       "    </tr>\n",
       "    <tr>\n",
       "      <th>5</th>\n",
       "      <td>Phone line</td>\n",
       "      <td>Yes</td>\n",
       "      <td>Yes</td>\n",
       "      <td>850</td>\n",
       "    </tr>\n",
       "  </tbody>\n",
       "</table>\n",
       "</div>"
      ],
      "text/plain": [
       "       PhoneService     MultipleLines Churn  count\n",
       "0  No phone service  No phone service    No    512\n",
       "1  No phone service  No phone service   Yes    170\n",
       "2        Phone line                No    No   2541\n",
       "3        Phone line                No   Yes    849\n",
       "4        Phone line               Yes    No   2121\n",
       "5        Phone line               Yes   Yes    850"
      ]
     },
     "execution_count": 17,
     "metadata": {},
     "output_type": "execute_result"
    }
   ],
   "source": [
    "Service_phone = Services_data[['PhoneService','MultipleLines','Churn']].value_counts().reset_index().sort_values(\n",
    "    by = ['PhoneService','MultipleLines','Churn'], ignore_index = True)\n",
    "Service_phone"
   ]
  },
  {
   "cell_type": "code",
   "execution_count": 18,
   "id": "fbb769cc-5920-45aa-856a-45146cf53dcf",
   "metadata": {},
   "outputs": [
    {
     "data": {
      "text/html": [
       "<div>\n",
       "<style scoped>\n",
       "    .dataframe tbody tr th:only-of-type {\n",
       "        vertical-align: middle;\n",
       "    }\n",
       "\n",
       "    .dataframe tbody tr th {\n",
       "        vertical-align: top;\n",
       "    }\n",
       "\n",
       "    .dataframe thead th {\n",
       "        text-align: right;\n",
       "    }\n",
       "</style>\n",
       "<table border=\"1\" class=\"dataframe\">\n",
       "  <thead>\n",
       "    <tr style=\"text-align: right;\">\n",
       "      <th></th>\n",
       "      <th>PhoneService</th>\n",
       "      <th>MultipleLines</th>\n",
       "      <th>Churn</th>\n",
       "      <th>count</th>\n",
       "    </tr>\n",
       "  </thead>\n",
       "  <tbody>\n",
       "    <tr>\n",
       "      <th>2</th>\n",
       "      <td>Phone line</td>\n",
       "      <td>No</td>\n",
       "      <td>No</td>\n",
       "      <td>2541</td>\n",
       "    </tr>\n",
       "    <tr>\n",
       "      <th>3</th>\n",
       "      <td>Phone line</td>\n",
       "      <td>No</td>\n",
       "      <td>Yes</td>\n",
       "      <td>849</td>\n",
       "    </tr>\n",
       "    <tr>\n",
       "      <th>4</th>\n",
       "      <td>Phone line</td>\n",
       "      <td>Yes</td>\n",
       "      <td>No</td>\n",
       "      <td>2121</td>\n",
       "    </tr>\n",
       "    <tr>\n",
       "      <th>5</th>\n",
       "      <td>Phone line</td>\n",
       "      <td>Yes</td>\n",
       "      <td>Yes</td>\n",
       "      <td>850</td>\n",
       "    </tr>\n",
       "  </tbody>\n",
       "</table>\n",
       "</div>"
      ],
      "text/plain": [
       "  PhoneService MultipleLines Churn  count\n",
       "2   Phone line            No    No   2541\n",
       "3   Phone line            No   Yes    849\n",
       "4   Phone line           Yes    No   2121\n",
       "5   Phone line           Yes   Yes    850"
      ]
     },
     "execution_count": 18,
     "metadata": {},
     "output_type": "execute_result"
    }
   ],
   "source": [
    "Multiple_data = Service_phone[Service_phone['MultipleLines']!='No phone service']\n",
    "Multiple_data"
   ]
  },
  {
   "cell_type": "code",
   "execution_count": 86,
   "id": "0f857d50-f5cb-4799-97ec-4b0b27d2d1bf",
   "metadata": {},
   "outputs": [
    {
     "data": {
      "text/plain": [
       "46.71"
      ]
     },
     "execution_count": 86,
     "metadata": {},
     "output_type": "execute_result"
    }
   ],
   "source": [
    "\"\"\"\n",
    "Finding the percentage of customer that have multiple phone line \n",
    "out of the customer that have a phone line\n",
    "\"\"\"\n",
    "\n",
    "round(((Multiple_data[Multiple_data['MultipleLines'] == 'Yes']['count'].sum())/\n",
    "(Multiple_data['count'].sum()))*100, 2)"
   ]
  },
  {
   "cell_type": "code",
   "execution_count": 19,
   "id": "c92ca8c8-9dfb-49e0-bf75-53c37bc73d88",
   "metadata": {},
   "outputs": [
    {
     "data": {
      "text/plain": [
       "26.71"
      ]
     },
     "execution_count": 19,
     "metadata": {},
     "output_type": "execute_result"
    }
   ],
   "source": [
    "# Find the churn rate of Phone services\n",
    "round(((Services_data[['PhoneService','Churn']].value_counts().reset_index().loc[1, 'count'])/\n",
    "      (Services_data['PhoneService'].value_counts().reset_index().loc[0, 'count']))*100, 2)"
   ]
  },
  {
   "cell_type": "code",
   "execution_count": 20,
   "id": "5e8d3015-296a-4c91-87a6-c59b5c4260f0",
   "metadata": {},
   "outputs": [
    {
     "data": {
      "text/plain": [
       "28.61"
      ]
     },
     "execution_count": 20,
     "metadata": {},
     "output_type": "execute_result"
    }
   ],
   "source": [
    "# Find the churn rate of customer with multiple lines\n",
    "round(((Service_phone.loc[5, 'count'])/\n",
    "       (Services_data['MultipleLines'].value_counts().reset_index().loc[1,'count']))*100, 2)"
   ]
  },
  {
   "cell_type": "code",
   "execution_count": 21,
   "id": "0f47918d-cd57-48e3-865a-bac072fb83e3",
   "metadata": {},
   "outputs": [
    {
     "data": {
      "text/plain": [
       "25.04"
      ]
     },
     "execution_count": 21,
     "metadata": {},
     "output_type": "execute_result"
    }
   ],
   "source": [
    "# Find the churn rate of customer without multiple lines\n",
    "round(((Service_phone.loc[3, 'count'])/\n",
    "       (Services_data['MultipleLines'].value_counts().reset_index().loc[0,'count']))*100, 2)"
   ]
  },
  {
   "cell_type": "code",
   "execution_count": 22,
   "id": "89f10b0d-4ea2-4cf4-ab21-da39a2fcc8ac",
   "metadata": {},
   "outputs": [
    {
     "data": {
      "text/plain": [
       "24.93"
      ]
     },
     "execution_count": 22,
     "metadata": {},
     "output_type": "execute_result"
    }
   ],
   "source": [
    "# Find the churn rate of customer without phone services\n",
    "round(((Service_phone.loc[1, 'count'])/\n",
    "       (Services_data['PhoneService'].value_counts().reset_index().loc[1, 'count']))*100, 2)"
   ]
  },
  {
   "cell_type": "markdown",
   "id": "cd90a408-223b-4b4d-ba4c-27c5c6a96f39",
   "metadata": {},
   "source": [
    "### Analysis On Internet Service"
   ]
  },
  {
   "cell_type": "code",
   "execution_count": 23,
   "id": "27aa21e1-c4e0-4a3a-8cfd-616735f6c2d3",
   "metadata": {},
   "outputs": [
    {
     "data": {
      "text/html": [
       "<div>\n",
       "<style scoped>\n",
       "    .dataframe tbody tr th:only-of-type {\n",
       "        vertical-align: middle;\n",
       "    }\n",
       "\n",
       "    .dataframe tbody tr th {\n",
       "        vertical-align: top;\n",
       "    }\n",
       "\n",
       "    .dataframe thead th {\n",
       "        text-align: right;\n",
       "    }\n",
       "</style>\n",
       "<table border=\"1\" class=\"dataframe\">\n",
       "  <thead>\n",
       "    <tr style=\"text-align: right;\">\n",
       "      <th></th>\n",
       "      <th>InternetService</th>\n",
       "      <th>count</th>\n",
       "    </tr>\n",
       "  </thead>\n",
       "  <tbody>\n",
       "    <tr>\n",
       "      <th>0</th>\n",
       "      <td>Fiber optic</td>\n",
       "      <td>3096</td>\n",
       "    </tr>\n",
       "    <tr>\n",
       "      <th>1</th>\n",
       "      <td>DSL</td>\n",
       "      <td>2421</td>\n",
       "    </tr>\n",
       "    <tr>\n",
       "      <th>2</th>\n",
       "      <td>No</td>\n",
       "      <td>1526</td>\n",
       "    </tr>\n",
       "  </tbody>\n",
       "</table>\n",
       "</div>"
      ],
      "text/plain": [
       "  InternetService  count\n",
       "0     Fiber optic   3096\n",
       "1             DSL   2421\n",
       "2              No   1526"
      ]
     },
     "execution_count": 23,
     "metadata": {},
     "output_type": "execute_result"
    }
   ],
   "source": [
    "Services_data['InternetService'].value_counts().reset_index()"
   ]
  },
  {
   "cell_type": "code",
   "execution_count": 24,
   "id": "358979e1-296f-40ee-b08c-67dda62fcbdc",
   "metadata": {},
   "outputs": [
    {
     "data": {
      "text/html": [
       "<div>\n",
       "<style scoped>\n",
       "    .dataframe tbody tr th:only-of-type {\n",
       "        vertical-align: middle;\n",
       "    }\n",
       "\n",
       "    .dataframe tbody tr th {\n",
       "        vertical-align: top;\n",
       "    }\n",
       "\n",
       "    .dataframe thead th {\n",
       "        text-align: right;\n",
       "    }\n",
       "</style>\n",
       "<table border=\"1\" class=\"dataframe\">\n",
       "  <thead>\n",
       "    <tr style=\"text-align: right;\">\n",
       "      <th></th>\n",
       "      <th>InternetService</th>\n",
       "      <th>Churn</th>\n",
       "      <th>count</th>\n",
       "    </tr>\n",
       "  </thead>\n",
       "  <tbody>\n",
       "    <tr>\n",
       "      <th>0</th>\n",
       "      <td>DSL</td>\n",
       "      <td>No</td>\n",
       "      <td>1962</td>\n",
       "    </tr>\n",
       "    <tr>\n",
       "      <th>1</th>\n",
       "      <td>DSL</td>\n",
       "      <td>Yes</td>\n",
       "      <td>459</td>\n",
       "    </tr>\n",
       "    <tr>\n",
       "      <th>2</th>\n",
       "      <td>Fiber optic</td>\n",
       "      <td>No</td>\n",
       "      <td>1799</td>\n",
       "    </tr>\n",
       "    <tr>\n",
       "      <th>3</th>\n",
       "      <td>Fiber optic</td>\n",
       "      <td>Yes</td>\n",
       "      <td>1297</td>\n",
       "    </tr>\n",
       "    <tr>\n",
       "      <th>4</th>\n",
       "      <td>No</td>\n",
       "      <td>No</td>\n",
       "      <td>1413</td>\n",
       "    </tr>\n",
       "    <tr>\n",
       "      <th>5</th>\n",
       "      <td>No</td>\n",
       "      <td>Yes</td>\n",
       "      <td>113</td>\n",
       "    </tr>\n",
       "  </tbody>\n",
       "</table>\n",
       "</div>"
      ],
      "text/plain": [
       "  InternetService Churn  count\n",
       "0             DSL    No   1962\n",
       "1             DSL   Yes    459\n",
       "2     Fiber optic    No   1799\n",
       "3     Fiber optic   Yes   1297\n",
       "4              No    No   1413\n",
       "5              No   Yes    113"
      ]
     },
     "execution_count": 24,
     "metadata": {},
     "output_type": "execute_result"
    }
   ],
   "source": [
    "Service_internet = (Services_data[['InternetService','Churn']].value_counts().reset_index()\n",
    "                    .sort_values(by=['InternetService'], ignore_index = True))\n",
    "Service_internet"
   ]
  },
  {
   "cell_type": "code",
   "execution_count": 25,
   "id": "8f61a48d-68bb-4723-813e-c87b82d22e5e",
   "metadata": {},
   "outputs": [
    {
     "data": {
      "text/html": [
       "<div>\n",
       "<style scoped>\n",
       "    .dataframe tbody tr th:only-of-type {\n",
       "        vertical-align: middle;\n",
       "    }\n",
       "\n",
       "    .dataframe tbody tr th {\n",
       "        vertical-align: top;\n",
       "    }\n",
       "\n",
       "    .dataframe thead th {\n",
       "        text-align: right;\n",
       "    }\n",
       "</style>\n",
       "<table border=\"1\" class=\"dataframe\">\n",
       "  <thead>\n",
       "    <tr style=\"text-align: right;\">\n",
       "      <th></th>\n",
       "      <th>InternetService</th>\n",
       "      <th>Churn</th>\n",
       "      <th>count</th>\n",
       "    </tr>\n",
       "  </thead>\n",
       "  <tbody>\n",
       "    <tr>\n",
       "      <th>0</th>\n",
       "      <td>DSL</td>\n",
       "      <td>No</td>\n",
       "      <td>1962</td>\n",
       "    </tr>\n",
       "    <tr>\n",
       "      <th>1</th>\n",
       "      <td>DSL</td>\n",
       "      <td>Yes</td>\n",
       "      <td>459</td>\n",
       "    </tr>\n",
       "    <tr>\n",
       "      <th>2</th>\n",
       "      <td>Fiber optic</td>\n",
       "      <td>No</td>\n",
       "      <td>1799</td>\n",
       "    </tr>\n",
       "    <tr>\n",
       "      <th>3</th>\n",
       "      <td>Fiber optic</td>\n",
       "      <td>Yes</td>\n",
       "      <td>1297</td>\n",
       "    </tr>\n",
       "  </tbody>\n",
       "</table>\n",
       "</div>"
      ],
      "text/plain": [
       "  InternetService Churn  count\n",
       "0             DSL    No   1962\n",
       "1             DSL   Yes    459\n",
       "2     Fiber optic    No   1799\n",
       "3     Fiber optic   Yes   1297"
      ]
     },
     "execution_count": 25,
     "metadata": {},
     "output_type": "execute_result"
    }
   ],
   "source": [
    "internet_type = Service_internet[Service_internet['InternetService'] != 'No']\n",
    "internet_type"
   ]
  },
  {
   "cell_type": "code",
   "execution_count": 26,
   "id": "1e2fef78-f704-44af-9297-107efa4b1a3f",
   "metadata": {},
   "outputs": [
    {
     "data": {
      "text/html": [
       "<div>\n",
       "<style scoped>\n",
       "    .dataframe tbody tr th:only-of-type {\n",
       "        vertical-align: middle;\n",
       "    }\n",
       "\n",
       "    .dataframe tbody tr th {\n",
       "        vertical-align: top;\n",
       "    }\n",
       "\n",
       "    .dataframe thead th {\n",
       "        text-align: right;\n",
       "    }\n",
       "</style>\n",
       "<table border=\"1\" class=\"dataframe\">\n",
       "  <thead>\n",
       "    <tr style=\"text-align: right;\">\n",
       "      <th></th>\n",
       "      <th>InternetService</th>\n",
       "      <th>Churn</th>\n",
       "      <th>count</th>\n",
       "    </tr>\n",
       "  </thead>\n",
       "  <tbody>\n",
       "    <tr>\n",
       "      <th>0</th>\n",
       "      <td>Has Internet Service</td>\n",
       "      <td>No</td>\n",
       "      <td>3761</td>\n",
       "    </tr>\n",
       "    <tr>\n",
       "      <th>1</th>\n",
       "      <td>Has Internet Service</td>\n",
       "      <td>Yes</td>\n",
       "      <td>1756</td>\n",
       "    </tr>\n",
       "    <tr>\n",
       "      <th>2</th>\n",
       "      <td>No Internet Services</td>\n",
       "      <td>No</td>\n",
       "      <td>1413</td>\n",
       "    </tr>\n",
       "    <tr>\n",
       "      <th>3</th>\n",
       "      <td>No Internet Services</td>\n",
       "      <td>Yes</td>\n",
       "      <td>113</td>\n",
       "    </tr>\n",
       "  </tbody>\n",
       "</table>\n",
       "</div>"
      ],
      "text/plain": [
       "        InternetService Churn  count\n",
       "0  Has Internet Service    No   3761\n",
       "1  Has Internet Service   Yes   1756\n",
       "2  No Internet Services    No   1413\n",
       "3  No Internet Services   Yes    113"
      ]
     },
     "execution_count": 26,
     "metadata": {},
     "output_type": "execute_result"
    }
   ],
   "source": [
    "internet_data = {'InternetService': ['Has Internet Service','Has Internet Service', 'No Internet Services', 'No Internet Services'],\n",
    "                    'Churn': ['No', 'Yes', 'No', 'Yes'],\n",
    "                    'count': [3761, 1756, 1413, 113]\n",
    "                   }\n",
    "Services_Internet = pd.DataFrame(internet_data)\n",
    "\n",
    "Services_Internet"
   ]
  },
  {
   "cell_type": "code",
   "execution_count": 27,
   "id": "a18043b7-cad0-4189-a511-3e2108d9e97c",
   "metadata": {},
   "outputs": [
    {
     "data": {
      "text/plain": [
       "31.83"
      ]
     },
     "execution_count": 27,
     "metadata": {},
     "output_type": "execute_result"
    }
   ],
   "source": [
    "# Find the churn rate of Internet services\n",
    "round(((Service_internet.loc[1,'count']+Service_internet.loc[3,'count'])/\n",
    "     (Services_data['InternetService'].value_counts().reset_index().loc[0,'count']+Services_data['InternetService'].value_counts().reset_index().loc[1,'count']))*100\n",
    "     , 2)"
   ]
  },
  {
   "cell_type": "code",
   "execution_count": 28,
   "id": "12957b8a-d713-43ea-81f7-da71260eb22c",
   "metadata": {},
   "outputs": [],
   "source": [
    "# Creating/calculating the churn rate of the internet services\n",
    "churn_table = {'Internet Serives' : [], 'Churn_rate' : []}\n",
    "\n",
    "# Iterate over rows using .iloc[] (index-based)\n",
    "\n",
    "for i in range(int((len(Service_internet)/2))):\n",
    "    churn_table['Internet Serives'].append(Service_internet.loc[(i*2), 'InternetService'])\n",
    "    churn_table['Churn_rate'].append(round(((Service_internet.loc[((i*2)+1),'count'])/\n",
    "                                            (Service_internet.loc[(i*2),'count'] + Service_internet.loc[((i*2)+1),'count']))*100, 2))\n",
    "    "
   ]
  },
  {
   "cell_type": "code",
   "execution_count": 29,
   "id": "19692323-159e-411f-b978-d0052c78937a",
   "metadata": {},
   "outputs": [
    {
     "data": {
      "text/html": [
       "<div>\n",
       "<style scoped>\n",
       "    .dataframe tbody tr th:only-of-type {\n",
       "        vertical-align: middle;\n",
       "    }\n",
       "\n",
       "    .dataframe tbody tr th {\n",
       "        vertical-align: top;\n",
       "    }\n",
       "\n",
       "    .dataframe thead th {\n",
       "        text-align: right;\n",
       "    }\n",
       "</style>\n",
       "<table border=\"1\" class=\"dataframe\">\n",
       "  <thead>\n",
       "    <tr style=\"text-align: right;\">\n",
       "      <th></th>\n",
       "      <th>Internet Serives</th>\n",
       "      <th>Churn_rate</th>\n",
       "    </tr>\n",
       "  </thead>\n",
       "  <tbody>\n",
       "    <tr>\n",
       "      <th>0</th>\n",
       "      <td>No</td>\n",
       "      <td>7.40</td>\n",
       "    </tr>\n",
       "    <tr>\n",
       "      <th>1</th>\n",
       "      <td>DSL</td>\n",
       "      <td>18.96</td>\n",
       "    </tr>\n",
       "    <tr>\n",
       "      <th>2</th>\n",
       "      <td>Fiber optic</td>\n",
       "      <td>41.89</td>\n",
       "    </tr>\n",
       "  </tbody>\n",
       "</table>\n",
       "</div>"
      ],
      "text/plain": [
       "  Internet Serives  Churn_rate\n",
       "0               No        7.40\n",
       "1              DSL       18.96\n",
       "2      Fiber optic       41.89"
      ]
     },
     "execution_count": 29,
     "metadata": {},
     "output_type": "execute_result"
    }
   ],
   "source": [
    "pd.DataFrame.from_dict(churn_table).sort_values(by=['Churn_rate'], ignore_index = True)"
   ]
  },
  {
   "cell_type": "markdown",
   "id": "2c7635e1-f273-433e-babd-efeaabfcf0d3",
   "metadata": {},
   "source": [
    "#### Analysis service that dependents on Internet Service"
   ]
  },
  {
   "cell_type": "code",
   "execution_count": 30,
   "id": "6ad326be-4a66-4341-a4a6-b457eefcfe80",
   "metadata": {},
   "outputs": [
    {
     "data": {
      "text/plain": [
       "(1526, 8)"
      ]
     },
     "execution_count": 30,
     "metadata": {},
     "output_type": "execute_result"
    }
   ],
   "source": [
    "NoInternet_data= Services_data[Services_data['DeviceProtection'] == 'No internet service'].reset_index(drop = True)\n",
    "NoInternet_data = NoInternet_data[['InternetService','OnlineSecurity','OnlineBackup','DeviceProtection','TechSupport','StreamingTV',\n",
    "                                 'StreamingMovies','Churn']]\n",
    "\n",
    "NoInternet_data.shape"
   ]
  },
  {
   "cell_type": "code",
   "execution_count": 31,
   "id": "2ee34249-b195-4fe0-9c2d-042418f904b7",
   "metadata": {},
   "outputs": [
    {
     "data": {
      "text/plain": [
       "(5517, 8)"
      ]
     },
     "execution_count": 31,
     "metadata": {},
     "output_type": "execute_result"
    }
   ],
   "source": [
    "Internet_Dependent_data= Services_data[Services_data['OnlineSecurity'] != 'No internet service'].reset_index(drop = True)\n",
    "Internet_Dependent_data = Internet_Dependent_data[['InternetService','OnlineSecurity','OnlineBackup','DeviceProtection','TechSupport','StreamingTV',\n",
    "                                 'StreamingMovies','Churn']]\n",
    "\n",
    "Internet_Dependent_data.shape"
   ]
  },
  {
   "cell_type": "markdown",
   "id": "32e0a8e1-3eb4-4bb4-ba0d-41f3e8a2803f",
   "metadata": {},
   "source": [
    "The sum of the rows above 1526 and 5517, is total observed data of 7043. To avoid repeated analysis of no internet service whilst analyzing the internet dependent services, the 'No internet service' observation has been filter to create a dataframe - Internet_Dependent_data."
   ]
  },
  {
   "cell_type": "code",
   "execution_count": 32,
   "id": "db3ed919-b16f-45de-a6a6-76f5f6f241d0",
   "metadata": {},
   "outputs": [
    {
     "data": {
      "text/html": [
       "<div>\n",
       "<style scoped>\n",
       "    .dataframe tbody tr th:only-of-type {\n",
       "        vertical-align: middle;\n",
       "    }\n",
       "\n",
       "    .dataframe tbody tr th {\n",
       "        vertical-align: top;\n",
       "    }\n",
       "\n",
       "    .dataframe thead th {\n",
       "        text-align: right;\n",
       "    }\n",
       "</style>\n",
       "<table border=\"1\" class=\"dataframe\">\n",
       "  <thead>\n",
       "    <tr style=\"text-align: right;\">\n",
       "      <th></th>\n",
       "      <th>InternetService</th>\n",
       "      <th>OnlineSecurity</th>\n",
       "      <th>OnlineBackup</th>\n",
       "      <th>DeviceProtection</th>\n",
       "      <th>TechSupport</th>\n",
       "      <th>StreamingTV</th>\n",
       "      <th>StreamingMovies</th>\n",
       "      <th>Churn</th>\n",
       "    </tr>\n",
       "  </thead>\n",
       "  <tbody>\n",
       "    <tr>\n",
       "      <th>count</th>\n",
       "      <td>5517</td>\n",
       "      <td>5517</td>\n",
       "      <td>5517</td>\n",
       "      <td>5517</td>\n",
       "      <td>5517</td>\n",
       "      <td>5517</td>\n",
       "      <td>5517</td>\n",
       "      <td>5517</td>\n",
       "    </tr>\n",
       "    <tr>\n",
       "      <th>unique</th>\n",
       "      <td>2</td>\n",
       "      <td>2</td>\n",
       "      <td>2</td>\n",
       "      <td>2</td>\n",
       "      <td>2</td>\n",
       "      <td>2</td>\n",
       "      <td>2</td>\n",
       "      <td>2</td>\n",
       "    </tr>\n",
       "    <tr>\n",
       "      <th>top</th>\n",
       "      <td>Fiber optic</td>\n",
       "      <td>No</td>\n",
       "      <td>No</td>\n",
       "      <td>No</td>\n",
       "      <td>No</td>\n",
       "      <td>No</td>\n",
       "      <td>No</td>\n",
       "      <td>No</td>\n",
       "    </tr>\n",
       "    <tr>\n",
       "      <th>freq</th>\n",
       "      <td>3096</td>\n",
       "      <td>3498</td>\n",
       "      <td>3088</td>\n",
       "      <td>3095</td>\n",
       "      <td>3473</td>\n",
       "      <td>2810</td>\n",
       "      <td>2785</td>\n",
       "      <td>3761</td>\n",
       "    </tr>\n",
       "  </tbody>\n",
       "</table>\n",
       "</div>"
      ],
      "text/plain": [
       "       InternetService OnlineSecurity OnlineBackup DeviceProtection  \\\n",
       "count             5517           5517         5517             5517   \n",
       "unique               2              2            2                2   \n",
       "top        Fiber optic             No           No               No   \n",
       "freq              3096           3498         3088             3095   \n",
       "\n",
       "       TechSupport StreamingTV StreamingMovies Churn  \n",
       "count         5517        5517            5517  5517  \n",
       "unique           2           2               2     2  \n",
       "top             No          No              No    No  \n",
       "freq          3473        2810            2785  3761  "
      ]
     },
     "execution_count": 32,
     "metadata": {},
     "output_type": "execute_result"
    }
   ],
   "source": [
    "Internet_Dependent_data.describe(include = 'object')"
   ]
  },
  {
   "cell_type": "markdown",
   "id": "4f6246e1-6693-49b8-a0e0-b76907f304a1",
   "metadata": {},
   "source": [
    "##### Analysis online security "
   ]
  },
  {
   "cell_type": "code",
   "execution_count": 33,
   "id": "cc38cc1a-053c-4a12-bb7d-6ac9d76e76a4",
   "metadata": {},
   "outputs": [
    {
     "data": {
      "text/html": [
       "<div>\n",
       "<style scoped>\n",
       "    .dataframe tbody tr th:only-of-type {\n",
       "        vertical-align: middle;\n",
       "    }\n",
       "\n",
       "    .dataframe tbody tr th {\n",
       "        vertical-align: top;\n",
       "    }\n",
       "\n",
       "    .dataframe thead th {\n",
       "        text-align: right;\n",
       "    }\n",
       "</style>\n",
       "<table border=\"1\" class=\"dataframe\">\n",
       "  <thead>\n",
       "    <tr style=\"text-align: right;\">\n",
       "      <th></th>\n",
       "      <th>OnlineSecurity</th>\n",
       "      <th>count</th>\n",
       "    </tr>\n",
       "  </thead>\n",
       "  <tbody>\n",
       "    <tr>\n",
       "      <th>0</th>\n",
       "      <td>No</td>\n",
       "      <td>3498</td>\n",
       "    </tr>\n",
       "    <tr>\n",
       "      <th>1</th>\n",
       "      <td>Yes</td>\n",
       "      <td>2019</td>\n",
       "    </tr>\n",
       "  </tbody>\n",
       "</table>\n",
       "</div>"
      ],
      "text/plain": [
       "  OnlineSecurity  count\n",
       "0             No   3498\n",
       "1            Yes   2019"
      ]
     },
     "execution_count": 33,
     "metadata": {},
     "output_type": "execute_result"
    }
   ],
   "source": [
    "Internet_Dependent_data['OnlineSecurity'].value_counts().reset_index()"
   ]
  },
  {
   "cell_type": "code",
   "execution_count": 85,
   "id": "e71c9c2a-b3b2-48a8-aa4f-3b85115fae0f",
   "metadata": {},
   "outputs": [
    {
     "data": {
      "text/plain": [
       "36.6"
      ]
     },
     "execution_count": 85,
     "metadata": {},
     "output_type": "execute_result"
    }
   ],
   "source": [
    "\"\"\"\n",
    "Calculate the percentage of customer that have online security out of customer that have internet service.\n",
    "\"\"\"\n",
    "\n",
    "round(((Internet_Dependent_data[Internet_Dependent_data['OnlineSecurity'] == 'Yes'].shape[0])/\n",
    "(Internet_Dependent_data.shape[0]))*100, 2)"
   ]
  },
  {
   "cell_type": "code",
   "execution_count": 34,
   "id": "e37976e7-15f5-4555-9745-423dbae8ac98",
   "metadata": {},
   "outputs": [
    {
     "data": {
      "text/html": [
       "<div>\n",
       "<style scoped>\n",
       "    .dataframe tbody tr th:only-of-type {\n",
       "        vertical-align: middle;\n",
       "    }\n",
       "\n",
       "    .dataframe tbody tr th {\n",
       "        vertical-align: top;\n",
       "    }\n",
       "\n",
       "    .dataframe thead th {\n",
       "        text-align: right;\n",
       "    }\n",
       "</style>\n",
       "<table border=\"1\" class=\"dataframe\">\n",
       "  <thead>\n",
       "    <tr style=\"text-align: right;\">\n",
       "      <th></th>\n",
       "      <th>OnlineSecurity</th>\n",
       "      <th>Churn</th>\n",
       "      <th>count</th>\n",
       "    </tr>\n",
       "  </thead>\n",
       "  <tbody>\n",
       "    <tr>\n",
       "      <th>0</th>\n",
       "      <td>No</td>\n",
       "      <td>No</td>\n",
       "      <td>2037</td>\n",
       "    </tr>\n",
       "    <tr>\n",
       "      <th>1</th>\n",
       "      <td>No</td>\n",
       "      <td>Yes</td>\n",
       "      <td>1461</td>\n",
       "    </tr>\n",
       "    <tr>\n",
       "      <th>2</th>\n",
       "      <td>Yes</td>\n",
       "      <td>No</td>\n",
       "      <td>1724</td>\n",
       "    </tr>\n",
       "    <tr>\n",
       "      <th>3</th>\n",
       "      <td>Yes</td>\n",
       "      <td>Yes</td>\n",
       "      <td>295</td>\n",
       "    </tr>\n",
       "  </tbody>\n",
       "</table>\n",
       "</div>"
      ],
      "text/plain": [
       "  OnlineSecurity Churn  count\n",
       "0             No    No   2037\n",
       "1             No   Yes   1461\n",
       "2            Yes    No   1724\n",
       "3            Yes   Yes    295"
      ]
     },
     "execution_count": 34,
     "metadata": {},
     "output_type": "execute_result"
    }
   ],
   "source": [
    "OnlineSec_data = Internet_Dependent_data[['OnlineSecurity','Churn']].value_counts().reset_index().sort_values(\n",
    "    by=['OnlineSecurity'], ignore_index = True\n",
    ")\n",
    "OnlineSec_data"
   ]
  },
  {
   "cell_type": "code",
   "execution_count": 35,
   "id": "4bbe28b1-a38f-4d8f-9b14-9cc5b203aa6a",
   "metadata": {},
   "outputs": [
    {
     "data": {
      "text/plain": [
       "14.61"
      ]
     },
     "execution_count": 35,
     "metadata": {},
     "output_type": "execute_result"
    }
   ],
   "source": [
    "# Calculating churn rate for customer who have online security\n",
    "round(((OnlineSec_data.loc[3,'count'])/(OnlineSec_data.loc[2,'count']+OnlineSec_data.loc[3,'count']))*100, 2)"
   ]
  },
  {
   "cell_type": "code",
   "execution_count": 36,
   "id": "3dd12a53-1913-4334-820c-9b5e56592d52",
   "metadata": {},
   "outputs": [
    {
     "data": {
      "text/plain": [
       "41.77"
      ]
     },
     "execution_count": 36,
     "metadata": {},
     "output_type": "execute_result"
    }
   ],
   "source": [
    "# Calculating churn rate for customer who does not online security, but internet services\n",
    "round(((OnlineSec_data.loc[1,'count'])/(OnlineSec_data.loc[0,'count']+OnlineSec_data.loc[1,'count']))*100, 2)"
   ]
  },
  {
   "cell_type": "markdown",
   "id": "6021102c-b01a-4a51-a60e-59b58e60a12f",
   "metadata": {},
   "source": [
    "##### Analysis online Backup "
   ]
  },
  {
   "cell_type": "code",
   "execution_count": 37,
   "id": "f0a0c727-3860-41ba-9822-54cff6d0416e",
   "metadata": {},
   "outputs": [
    {
     "data": {
      "text/html": [
       "<div>\n",
       "<style scoped>\n",
       "    .dataframe tbody tr th:only-of-type {\n",
       "        vertical-align: middle;\n",
       "    }\n",
       "\n",
       "    .dataframe tbody tr th {\n",
       "        vertical-align: top;\n",
       "    }\n",
       "\n",
       "    .dataframe thead th {\n",
       "        text-align: right;\n",
       "    }\n",
       "</style>\n",
       "<table border=\"1\" class=\"dataframe\">\n",
       "  <thead>\n",
       "    <tr style=\"text-align: right;\">\n",
       "      <th></th>\n",
       "      <th>OnlineBackup</th>\n",
       "      <th>count</th>\n",
       "    </tr>\n",
       "  </thead>\n",
       "  <tbody>\n",
       "    <tr>\n",
       "      <th>0</th>\n",
       "      <td>No</td>\n",
       "      <td>3088</td>\n",
       "    </tr>\n",
       "    <tr>\n",
       "      <th>1</th>\n",
       "      <td>Yes</td>\n",
       "      <td>2429</td>\n",
       "    </tr>\n",
       "  </tbody>\n",
       "</table>\n",
       "</div>"
      ],
      "text/plain": [
       "  OnlineBackup  count\n",
       "0           No   3088\n",
       "1          Yes   2429"
      ]
     },
     "execution_count": 37,
     "metadata": {},
     "output_type": "execute_result"
    }
   ],
   "source": [
    "Internet_Dependent_data['OnlineBackup'].value_counts().reset_index()"
   ]
  },
  {
   "cell_type": "code",
   "execution_count": 82,
   "id": "4b75b09b-e221-4c18-bda9-ac6c34ebbfaa",
   "metadata": {},
   "outputs": [
    {
     "data": {
      "text/plain": [
       "44.03"
      ]
     },
     "execution_count": 82,
     "metadata": {},
     "output_type": "execute_result"
    }
   ],
   "source": [
    "\"\"\"\n",
    "Calculate the percentage of customer that have online backup out of customer that have internet service.\n",
    "\"\"\"\n",
    "\n",
    "round(((Internet_Dependent_data[Internet_Dependent_data['OnlineBackup'] == 'Yes'].shape[0])/\n",
    "(Internet_Dependent_data.shape[0]))*100,2)"
   ]
  },
  {
   "cell_type": "code",
   "execution_count": 38,
   "id": "0cc70127-3a83-4a13-983d-e5e26f47aea3",
   "metadata": {},
   "outputs": [
    {
     "data": {
      "text/html": [
       "<div>\n",
       "<style scoped>\n",
       "    .dataframe tbody tr th:only-of-type {\n",
       "        vertical-align: middle;\n",
       "    }\n",
       "\n",
       "    .dataframe tbody tr th {\n",
       "        vertical-align: top;\n",
       "    }\n",
       "\n",
       "    .dataframe thead th {\n",
       "        text-align: right;\n",
       "    }\n",
       "</style>\n",
       "<table border=\"1\" class=\"dataframe\">\n",
       "  <thead>\n",
       "    <tr style=\"text-align: right;\">\n",
       "      <th></th>\n",
       "      <th>OnlineBackup</th>\n",
       "      <th>Churn</th>\n",
       "      <th>count</th>\n",
       "    </tr>\n",
       "  </thead>\n",
       "  <tbody>\n",
       "    <tr>\n",
       "      <th>0</th>\n",
       "      <td>No</td>\n",
       "      <td>No</td>\n",
       "      <td>1855</td>\n",
       "    </tr>\n",
       "    <tr>\n",
       "      <th>1</th>\n",
       "      <td>No</td>\n",
       "      <td>Yes</td>\n",
       "      <td>1233</td>\n",
       "    </tr>\n",
       "    <tr>\n",
       "      <th>2</th>\n",
       "      <td>Yes</td>\n",
       "      <td>No</td>\n",
       "      <td>1906</td>\n",
       "    </tr>\n",
       "    <tr>\n",
       "      <th>3</th>\n",
       "      <td>Yes</td>\n",
       "      <td>Yes</td>\n",
       "      <td>523</td>\n",
       "    </tr>\n",
       "  </tbody>\n",
       "</table>\n",
       "</div>"
      ],
      "text/plain": [
       "  OnlineBackup Churn  count\n",
       "0           No    No   1855\n",
       "1           No   Yes   1233\n",
       "2          Yes    No   1906\n",
       "3          Yes   Yes    523"
      ]
     },
     "execution_count": 38,
     "metadata": {},
     "output_type": "execute_result"
    }
   ],
   "source": [
    "OnlineBac_data = Internet_Dependent_data[['OnlineBackup','Churn']].value_counts().reset_index().sort_values(\n",
    "    by=['OnlineBackup'], ignore_index = True\n",
    ")\n",
    "OnlineBac_data"
   ]
  },
  {
   "cell_type": "code",
   "execution_count": 39,
   "id": "5b9306cd-9be4-4034-bdab-ba8a783605ae",
   "metadata": {},
   "outputs": [
    {
     "data": {
      "text/plain": [
       "21.53"
      ]
     },
     "execution_count": 39,
     "metadata": {},
     "output_type": "execute_result"
    }
   ],
   "source": [
    "# Calculating churn rate for customer who have online backup\n",
    "round(((OnlineBac_data.loc[3,'count'])/(OnlineBac_data.loc[2,'count']+OnlineBac_data.loc[3,'count']))*100, 2)"
   ]
  },
  {
   "cell_type": "code",
   "execution_count": 40,
   "id": "8a2a86a0-b10d-4cd9-a1f6-ae08e0647bf9",
   "metadata": {},
   "outputs": [
    {
     "data": {
      "text/plain": [
       "39.93"
      ]
     },
     "execution_count": 40,
     "metadata": {},
     "output_type": "execute_result"
    }
   ],
   "source": [
    "# Calculating churn rate for customer who does not have online backup, but have internet services\n",
    "round(((OnlineBac_data.loc[1,'count'])/(OnlineBac_data.loc[0,'count']+OnlineBac_data.loc[1,'count']))*100, 2)"
   ]
  },
  {
   "cell_type": "markdown",
   "id": "600b6203-b4db-4f2e-94a5-b46b3fe37a5f",
   "metadata": {},
   "source": [
    "#### Analysis Device Protection Service"
   ]
  },
  {
   "cell_type": "code",
   "execution_count": 41,
   "id": "7d3d736b-20f1-41d9-9fa8-1befda03d5c5",
   "metadata": {},
   "outputs": [
    {
     "data": {
      "text/html": [
       "<div>\n",
       "<style scoped>\n",
       "    .dataframe tbody tr th:only-of-type {\n",
       "        vertical-align: middle;\n",
       "    }\n",
       "\n",
       "    .dataframe tbody tr th {\n",
       "        vertical-align: top;\n",
       "    }\n",
       "\n",
       "    .dataframe thead th {\n",
       "        text-align: right;\n",
       "    }\n",
       "</style>\n",
       "<table border=\"1\" class=\"dataframe\">\n",
       "  <thead>\n",
       "    <tr style=\"text-align: right;\">\n",
       "      <th></th>\n",
       "      <th>DeviceProtection</th>\n",
       "      <th>count</th>\n",
       "    </tr>\n",
       "  </thead>\n",
       "  <tbody>\n",
       "    <tr>\n",
       "      <th>0</th>\n",
       "      <td>No</td>\n",
       "      <td>3095</td>\n",
       "    </tr>\n",
       "    <tr>\n",
       "      <th>1</th>\n",
       "      <td>Yes</td>\n",
       "      <td>2422</td>\n",
       "    </tr>\n",
       "  </tbody>\n",
       "</table>\n",
       "</div>"
      ],
      "text/plain": [
       "  DeviceProtection  count\n",
       "0               No   3095\n",
       "1              Yes   2422"
      ]
     },
     "execution_count": 41,
     "metadata": {},
     "output_type": "execute_result"
    }
   ],
   "source": [
    "Internet_Dependent_data['DeviceProtection'].value_counts().reset_index()"
   ]
  },
  {
   "cell_type": "code",
   "execution_count": 81,
   "id": "1bff0f46-afcc-4f6d-ba8f-59644abe31a6",
   "metadata": {},
   "outputs": [
    {
     "data": {
      "text/plain": [
       "43.9"
      ]
     },
     "execution_count": 81,
     "metadata": {},
     "output_type": "execute_result"
    }
   ],
   "source": [
    "\"\"\"\n",
    "Calculate the percentage of customer that have Device Protection out of customer that have internet service.\n",
    "\"\"\"\n",
    "\n",
    "round(((Internet_Dependent_data[Internet_Dependent_data['DeviceProtection'] == 'Yes'].shape[0])/\n",
    "(Internet_Dependent_data.shape[0]))*100, 2)"
   ]
  },
  {
   "cell_type": "code",
   "execution_count": 42,
   "id": "997f69ef-5db6-4ef3-8dbb-c9265ffee407",
   "metadata": {},
   "outputs": [
    {
     "data": {
      "text/html": [
       "<div>\n",
       "<style scoped>\n",
       "    .dataframe tbody tr th:only-of-type {\n",
       "        vertical-align: middle;\n",
       "    }\n",
       "\n",
       "    .dataframe tbody tr th {\n",
       "        vertical-align: top;\n",
       "    }\n",
       "\n",
       "    .dataframe thead th {\n",
       "        text-align: right;\n",
       "    }\n",
       "</style>\n",
       "<table border=\"1\" class=\"dataframe\">\n",
       "  <thead>\n",
       "    <tr style=\"text-align: right;\">\n",
       "      <th></th>\n",
       "      <th>DeviceProtection</th>\n",
       "      <th>Churn</th>\n",
       "      <th>count</th>\n",
       "    </tr>\n",
       "  </thead>\n",
       "  <tbody>\n",
       "    <tr>\n",
       "      <th>0</th>\n",
       "      <td>No</td>\n",
       "      <td>No</td>\n",
       "      <td>1884</td>\n",
       "    </tr>\n",
       "    <tr>\n",
       "      <th>1</th>\n",
       "      <td>No</td>\n",
       "      <td>Yes</td>\n",
       "      <td>1211</td>\n",
       "    </tr>\n",
       "    <tr>\n",
       "      <th>2</th>\n",
       "      <td>Yes</td>\n",
       "      <td>No</td>\n",
       "      <td>1877</td>\n",
       "    </tr>\n",
       "    <tr>\n",
       "      <th>3</th>\n",
       "      <td>Yes</td>\n",
       "      <td>Yes</td>\n",
       "      <td>545</td>\n",
       "    </tr>\n",
       "  </tbody>\n",
       "</table>\n",
       "</div>"
      ],
      "text/plain": [
       "  DeviceProtection Churn  count\n",
       "0               No    No   1884\n",
       "1               No   Yes   1211\n",
       "2              Yes    No   1877\n",
       "3              Yes   Yes    545"
      ]
     },
     "execution_count": 42,
     "metadata": {},
     "output_type": "execute_result"
    }
   ],
   "source": [
    "Device_data = Internet_Dependent_data[['DeviceProtection','Churn']].value_counts().reset_index().sort_values(\n",
    "    by=['DeviceProtection'], ignore_index = True\n",
    ")\n",
    "Device_data"
   ]
  },
  {
   "cell_type": "code",
   "execution_count": 43,
   "id": "98b71b26-7326-4ad9-8521-09d793bb7b7d",
   "metadata": {},
   "outputs": [
    {
     "data": {
      "text/plain": [
       "22.5"
      ]
     },
     "execution_count": 43,
     "metadata": {},
     "output_type": "execute_result"
    }
   ],
   "source": [
    "# Calculating churn rate for customer who have Device Protection\n",
    "round(((Device_data.loc[3,'count'])/(Device_data.loc[2,'count']+Device_data.loc[3,'count']))*100, 2)"
   ]
  },
  {
   "cell_type": "code",
   "execution_count": 44,
   "id": "9c78c9ce-6859-442c-845e-8e1a78320f56",
   "metadata": {},
   "outputs": [
    {
     "data": {
      "text/plain": [
       "39.13"
      ]
     },
     "execution_count": 44,
     "metadata": {},
     "output_type": "execute_result"
    }
   ],
   "source": [
    "# Calculating churn rate for customer who does not have Device Protection, but have internet services\n",
    "round(((Device_data.loc[1,'count'])/(Device_data.loc[0,'count']+Device_data.loc[1,'count']))*100, 2)"
   ]
  },
  {
   "cell_type": "markdown",
   "id": "dfb9aef0-543f-4018-b1aa-5c2ec7193ea8",
   "metadata": {},
   "source": [
    "#### Analysis Tech Support Service"
   ]
  },
  {
   "cell_type": "code",
   "execution_count": 45,
   "id": "6de2d8fa-842c-46a6-9571-0918c9aae356",
   "metadata": {},
   "outputs": [
    {
     "data": {
      "text/html": [
       "<div>\n",
       "<style scoped>\n",
       "    .dataframe tbody tr th:only-of-type {\n",
       "        vertical-align: middle;\n",
       "    }\n",
       "\n",
       "    .dataframe tbody tr th {\n",
       "        vertical-align: top;\n",
       "    }\n",
       "\n",
       "    .dataframe thead th {\n",
       "        text-align: right;\n",
       "    }\n",
       "</style>\n",
       "<table border=\"1\" class=\"dataframe\">\n",
       "  <thead>\n",
       "    <tr style=\"text-align: right;\">\n",
       "      <th></th>\n",
       "      <th>TechSupport</th>\n",
       "      <th>count</th>\n",
       "    </tr>\n",
       "  </thead>\n",
       "  <tbody>\n",
       "    <tr>\n",
       "      <th>0</th>\n",
       "      <td>No</td>\n",
       "      <td>3473</td>\n",
       "    </tr>\n",
       "    <tr>\n",
       "      <th>1</th>\n",
       "      <td>Yes</td>\n",
       "      <td>2044</td>\n",
       "    </tr>\n",
       "  </tbody>\n",
       "</table>\n",
       "</div>"
      ],
      "text/plain": [
       "  TechSupport  count\n",
       "0          No   3473\n",
       "1         Yes   2044"
      ]
     },
     "execution_count": 45,
     "metadata": {},
     "output_type": "execute_result"
    }
   ],
   "source": [
    "Internet_Dependent_data['TechSupport'].value_counts().reset_index()"
   ]
  },
  {
   "cell_type": "code",
   "execution_count": 87,
   "id": "ec1fe180-adbb-4452-b822-f9f6f2abb346",
   "metadata": {},
   "outputs": [
    {
     "data": {
      "text/plain": [
       "37.05"
      ]
     },
     "execution_count": 87,
     "metadata": {},
     "output_type": "execute_result"
    }
   ],
   "source": [
    "\"\"\"\n",
    "Calculate the percentage of customer that have Tech Support out of customer that have internet service.\n",
    "\"\"\"\n",
    "\n",
    "round(((Internet_Dependent_data[Internet_Dependent_data['TechSupport'] == 'Yes'].shape[0])/\n",
    "(Internet_Dependent_data.shape[0]))*100, 2)"
   ]
  },
  {
   "cell_type": "code",
   "execution_count": 46,
   "id": "b469a2eb-11e2-45e6-b9b1-3712dd8cfe34",
   "metadata": {},
   "outputs": [
    {
     "data": {
      "text/html": [
       "<div>\n",
       "<style scoped>\n",
       "    .dataframe tbody tr th:only-of-type {\n",
       "        vertical-align: middle;\n",
       "    }\n",
       "\n",
       "    .dataframe tbody tr th {\n",
       "        vertical-align: top;\n",
       "    }\n",
       "\n",
       "    .dataframe thead th {\n",
       "        text-align: right;\n",
       "    }\n",
       "</style>\n",
       "<table border=\"1\" class=\"dataframe\">\n",
       "  <thead>\n",
       "    <tr style=\"text-align: right;\">\n",
       "      <th></th>\n",
       "      <th>TechSupport</th>\n",
       "      <th>Churn</th>\n",
       "      <th>count</th>\n",
       "    </tr>\n",
       "  </thead>\n",
       "  <tbody>\n",
       "    <tr>\n",
       "      <th>0</th>\n",
       "      <td>No</td>\n",
       "      <td>No</td>\n",
       "      <td>2027</td>\n",
       "    </tr>\n",
       "    <tr>\n",
       "      <th>1</th>\n",
       "      <td>No</td>\n",
       "      <td>Yes</td>\n",
       "      <td>1446</td>\n",
       "    </tr>\n",
       "    <tr>\n",
       "      <th>2</th>\n",
       "      <td>Yes</td>\n",
       "      <td>No</td>\n",
       "      <td>1734</td>\n",
       "    </tr>\n",
       "    <tr>\n",
       "      <th>3</th>\n",
       "      <td>Yes</td>\n",
       "      <td>Yes</td>\n",
       "      <td>310</td>\n",
       "    </tr>\n",
       "  </tbody>\n",
       "</table>\n",
       "</div>"
      ],
      "text/plain": [
       "  TechSupport Churn  count\n",
       "0          No    No   2027\n",
       "1          No   Yes   1446\n",
       "2         Yes    No   1734\n",
       "3         Yes   Yes    310"
      ]
     },
     "execution_count": 46,
     "metadata": {},
     "output_type": "execute_result"
    }
   ],
   "source": [
    "Tech_data = Internet_Dependent_data[['TechSupport','Churn']].value_counts().reset_index().sort_values(\n",
    "    by=['TechSupport'], ignore_index = True\n",
    ")\n",
    "Tech_data"
   ]
  },
  {
   "cell_type": "code",
   "execution_count": 47,
   "id": "29233654-ad3c-4d06-8bdd-00472332a850",
   "metadata": {},
   "outputs": [
    {
     "data": {
      "text/plain": [
       "15.17"
      ]
     },
     "execution_count": 47,
     "metadata": {},
     "output_type": "execute_result"
    }
   ],
   "source": [
    "# Calculating churn rate for customer who have Tech Support\n",
    "round(((Tech_data.loc[3,'count'])/(Tech_data.loc[2,'count']+Tech_data.loc[3,'count']))*100, 2)"
   ]
  },
  {
   "cell_type": "code",
   "execution_count": 48,
   "id": "073e32a9-8194-4352-ac0f-9eda50c27e9c",
   "metadata": {},
   "outputs": [
    {
     "data": {
      "text/plain": [
       "41.64"
      ]
     },
     "execution_count": 48,
     "metadata": {},
     "output_type": "execute_result"
    }
   ],
   "source": [
    "# Calculating churn rate for customer who does not have Tech Support, but have internet services\n",
    "round(((Tech_data.loc[1,'count'])/(Tech_data.loc[0,'count']+Tech_data.loc[1,'count']))*100, 2)"
   ]
  },
  {
   "cell_type": "markdown",
   "id": "8afe5d2f-b003-4097-bc26-2c8ba9fbf2b7",
   "metadata": {},
   "source": [
    "#### Analysis Streaming TV Service"
   ]
  },
  {
   "cell_type": "code",
   "execution_count": 49,
   "id": "e883bf1c-866d-4e31-bbf3-0eb17df4b296",
   "metadata": {},
   "outputs": [
    {
     "data": {
      "text/html": [
       "<div>\n",
       "<style scoped>\n",
       "    .dataframe tbody tr th:only-of-type {\n",
       "        vertical-align: middle;\n",
       "    }\n",
       "\n",
       "    .dataframe tbody tr th {\n",
       "        vertical-align: top;\n",
       "    }\n",
       "\n",
       "    .dataframe thead th {\n",
       "        text-align: right;\n",
       "    }\n",
       "</style>\n",
       "<table border=\"1\" class=\"dataframe\">\n",
       "  <thead>\n",
       "    <tr style=\"text-align: right;\">\n",
       "      <th></th>\n",
       "      <th>StreamingTV</th>\n",
       "      <th>count</th>\n",
       "    </tr>\n",
       "  </thead>\n",
       "  <tbody>\n",
       "    <tr>\n",
       "      <th>0</th>\n",
       "      <td>No</td>\n",
       "      <td>2810</td>\n",
       "    </tr>\n",
       "    <tr>\n",
       "      <th>1</th>\n",
       "      <td>Yes</td>\n",
       "      <td>2707</td>\n",
       "    </tr>\n",
       "  </tbody>\n",
       "</table>\n",
       "</div>"
      ],
      "text/plain": [
       "  StreamingTV  count\n",
       "0          No   2810\n",
       "1         Yes   2707"
      ]
     },
     "execution_count": 49,
     "metadata": {},
     "output_type": "execute_result"
    }
   ],
   "source": [
    "Internet_Dependent_data['StreamingTV'].value_counts().reset_index()"
   ]
  },
  {
   "cell_type": "code",
   "execution_count": 88,
   "id": "f058db11-e48c-4a47-b974-4786fd71bfa7",
   "metadata": {},
   "outputs": [
    {
     "data": {
      "text/plain": [
       "49.07"
      ]
     },
     "execution_count": 88,
     "metadata": {},
     "output_type": "execute_result"
    }
   ],
   "source": [
    "\"\"\"\n",
    "Calculate the percentage of customer that have Streaming TV out of customer that have internet service.\n",
    "\"\"\"\n",
    "\n",
    "round(((Internet_Dependent_data[Internet_Dependent_data['StreamingTV'] == 'Yes'].shape[0])/\n",
    "(Internet_Dependent_data.shape[0]))*100, 2)"
   ]
  },
  {
   "cell_type": "code",
   "execution_count": 50,
   "id": "06d2b17e-3f27-4f42-9e65-01b918cd23a2",
   "metadata": {},
   "outputs": [
    {
     "data": {
      "text/html": [
       "<div>\n",
       "<style scoped>\n",
       "    .dataframe tbody tr th:only-of-type {\n",
       "        vertical-align: middle;\n",
       "    }\n",
       "\n",
       "    .dataframe tbody tr th {\n",
       "        vertical-align: top;\n",
       "    }\n",
       "\n",
       "    .dataframe thead th {\n",
       "        text-align: right;\n",
       "    }\n",
       "</style>\n",
       "<table border=\"1\" class=\"dataframe\">\n",
       "  <thead>\n",
       "    <tr style=\"text-align: right;\">\n",
       "      <th></th>\n",
       "      <th>StreamingTV</th>\n",
       "      <th>Churn</th>\n",
       "      <th>count</th>\n",
       "    </tr>\n",
       "  </thead>\n",
       "  <tbody>\n",
       "    <tr>\n",
       "      <th>0</th>\n",
       "      <td>No</td>\n",
       "      <td>No</td>\n",
       "      <td>1868</td>\n",
       "    </tr>\n",
       "    <tr>\n",
       "      <th>1</th>\n",
       "      <td>No</td>\n",
       "      <td>Yes</td>\n",
       "      <td>942</td>\n",
       "    </tr>\n",
       "    <tr>\n",
       "      <th>2</th>\n",
       "      <td>Yes</td>\n",
       "      <td>No</td>\n",
       "      <td>1893</td>\n",
       "    </tr>\n",
       "    <tr>\n",
       "      <th>3</th>\n",
       "      <td>Yes</td>\n",
       "      <td>Yes</td>\n",
       "      <td>814</td>\n",
       "    </tr>\n",
       "  </tbody>\n",
       "</table>\n",
       "</div>"
      ],
      "text/plain": [
       "  StreamingTV Churn  count\n",
       "0          No    No   1868\n",
       "1          No   Yes    942\n",
       "2         Yes    No   1893\n",
       "3         Yes   Yes    814"
      ]
     },
     "execution_count": 50,
     "metadata": {},
     "output_type": "execute_result"
    }
   ],
   "source": [
    "StreamTv_data = Internet_Dependent_data[['StreamingTV','Churn']].value_counts().reset_index().sort_values(\n",
    "    by=['StreamingTV'], ignore_index = True\n",
    ")\n",
    "StreamTv_data"
   ]
  },
  {
   "cell_type": "code",
   "execution_count": 51,
   "id": "a2c16eac-fa1a-4000-b5b8-89afc9067639",
   "metadata": {},
   "outputs": [
    {
     "data": {
      "text/plain": [
       "30.07"
      ]
     },
     "execution_count": 51,
     "metadata": {},
     "output_type": "execute_result"
    }
   ],
   "source": [
    "# Calculating churn rate for customer who have Steaming TV services\n",
    "round(((StreamTv_data.loc[3,'count'])/(StreamTv_data.loc[2,'count']+StreamTv_data.loc[3,'count']))*100, 2)"
   ]
  },
  {
   "cell_type": "code",
   "execution_count": 52,
   "id": "851ebb42-71ba-4f34-9e94-f8b971f548ff",
   "metadata": {},
   "outputs": [
    {
     "data": {
      "text/plain": [
       "33.52"
      ]
     },
     "execution_count": 52,
     "metadata": {},
     "output_type": "execute_result"
    }
   ],
   "source": [
    "# Calculating churn rate for customer who does not have Steaming TV services, but have internet services\n",
    "round(((StreamTv_data.loc[1,'count'])/(StreamTv_data.loc[0,'count']+StreamTv_data.loc[1,'count']))*100, 2)"
   ]
  },
  {
   "cell_type": "markdown",
   "id": "12845f97-6535-4ce9-9805-392a12713b3b",
   "metadata": {},
   "source": [
    "#### Analysis Streaming Movie Service"
   ]
  },
  {
   "cell_type": "code",
   "execution_count": 53,
   "id": "c6017ffc-11be-4110-ab72-fdb99d6564a4",
   "metadata": {},
   "outputs": [
    {
     "data": {
      "text/html": [
       "<div>\n",
       "<style scoped>\n",
       "    .dataframe tbody tr th:only-of-type {\n",
       "        vertical-align: middle;\n",
       "    }\n",
       "\n",
       "    .dataframe tbody tr th {\n",
       "        vertical-align: top;\n",
       "    }\n",
       "\n",
       "    .dataframe thead th {\n",
       "        text-align: right;\n",
       "    }\n",
       "</style>\n",
       "<table border=\"1\" class=\"dataframe\">\n",
       "  <thead>\n",
       "    <tr style=\"text-align: right;\">\n",
       "      <th></th>\n",
       "      <th>StreamingMovies</th>\n",
       "      <th>count</th>\n",
       "    </tr>\n",
       "  </thead>\n",
       "  <tbody>\n",
       "    <tr>\n",
       "      <th>0</th>\n",
       "      <td>No</td>\n",
       "      <td>2785</td>\n",
       "    </tr>\n",
       "    <tr>\n",
       "      <th>1</th>\n",
       "      <td>Yes</td>\n",
       "      <td>2732</td>\n",
       "    </tr>\n",
       "  </tbody>\n",
       "</table>\n",
       "</div>"
      ],
      "text/plain": [
       "  StreamingMovies  count\n",
       "0              No   2785\n",
       "1             Yes   2732"
      ]
     },
     "execution_count": 53,
     "metadata": {},
     "output_type": "execute_result"
    }
   ],
   "source": [
    "Internet_Dependent_data['StreamingMovies'].value_counts().reset_index()"
   ]
  },
  {
   "cell_type": "code",
   "execution_count": 90,
   "id": "47b9d29e-2229-46ec-b0b6-65e8a522974f",
   "metadata": {},
   "outputs": [
    {
     "data": {
      "text/plain": [
       "49.52"
      ]
     },
     "execution_count": 90,
     "metadata": {},
     "output_type": "execute_result"
    }
   ],
   "source": [
    "\"\"\"\n",
    "Calculate the percentage of customer that have Streaming Movies out of customer that have internet service.\n",
    "\"\"\"\n",
    "\n",
    "round(((Internet_Dependent_data[Internet_Dependent_data['StreamingMovies'] == 'Yes'].shape[0])/\n",
    "(Internet_Dependent_data.shape[0]))*100, 2)"
   ]
  },
  {
   "cell_type": "code",
   "execution_count": 54,
   "id": "398b22c5-253d-469e-a444-99f6a30a34c3",
   "metadata": {},
   "outputs": [
    {
     "data": {
      "text/html": [
       "<div>\n",
       "<style scoped>\n",
       "    .dataframe tbody tr th:only-of-type {\n",
       "        vertical-align: middle;\n",
       "    }\n",
       "\n",
       "    .dataframe tbody tr th {\n",
       "        vertical-align: top;\n",
       "    }\n",
       "\n",
       "    .dataframe thead th {\n",
       "        text-align: right;\n",
       "    }\n",
       "</style>\n",
       "<table border=\"1\" class=\"dataframe\">\n",
       "  <thead>\n",
       "    <tr style=\"text-align: right;\">\n",
       "      <th></th>\n",
       "      <th>StreamingMovies</th>\n",
       "      <th>Churn</th>\n",
       "      <th>count</th>\n",
       "    </tr>\n",
       "  </thead>\n",
       "  <tbody>\n",
       "    <tr>\n",
       "      <th>0</th>\n",
       "      <td>No</td>\n",
       "      <td>No</td>\n",
       "      <td>1847</td>\n",
       "    </tr>\n",
       "    <tr>\n",
       "      <th>1</th>\n",
       "      <td>No</td>\n",
       "      <td>Yes</td>\n",
       "      <td>938</td>\n",
       "    </tr>\n",
       "    <tr>\n",
       "      <th>2</th>\n",
       "      <td>Yes</td>\n",
       "      <td>No</td>\n",
       "      <td>1914</td>\n",
       "    </tr>\n",
       "    <tr>\n",
       "      <th>3</th>\n",
       "      <td>Yes</td>\n",
       "      <td>Yes</td>\n",
       "      <td>818</td>\n",
       "    </tr>\n",
       "  </tbody>\n",
       "</table>\n",
       "</div>"
      ],
      "text/plain": [
       "  StreamingMovies Churn  count\n",
       "0              No    No   1847\n",
       "1              No   Yes    938\n",
       "2             Yes    No   1914\n",
       "3             Yes   Yes    818"
      ]
     },
     "execution_count": 54,
     "metadata": {},
     "output_type": "execute_result"
    }
   ],
   "source": [
    "StreamMovie_data = Internet_Dependent_data[['StreamingMovies','Churn']].value_counts().reset_index().sort_values(\n",
    "    by=['StreamingMovies'], ignore_index = True\n",
    ")\n",
    "StreamMovie_data"
   ]
  },
  {
   "cell_type": "code",
   "execution_count": 55,
   "id": "49b52760-84d4-40c4-9178-20770ebe04b5",
   "metadata": {},
   "outputs": [
    {
     "data": {
      "text/plain": [
       "29.94"
      ]
     },
     "execution_count": 55,
     "metadata": {},
     "output_type": "execute_result"
    }
   ],
   "source": [
    "# Calculating churn rate for customer who have Steaming Movies services\n",
    "round(((StreamMovie_data.loc[3,'count'])/(StreamMovie_data.loc[2,'count']+StreamMovie_data.loc[3,'count']))*100, 2)"
   ]
  },
  {
   "cell_type": "code",
   "execution_count": 56,
   "id": "3331fc13-8e37-4514-8013-67881acd038e",
   "metadata": {},
   "outputs": [
    {
     "data": {
      "text/plain": [
       "33.68"
      ]
     },
     "execution_count": 56,
     "metadata": {},
     "output_type": "execute_result"
    }
   ],
   "source": [
    "# Calculating churn rate for customer who does not have Steaming Movies services, but internet services\n",
    "round(((StreamMovie_data.loc[1,'count'])/(StreamMovie_data.loc[0,'count']+StreamMovie_data.loc[1,'count']))*100, 2)"
   ]
  },
  {
   "cell_type": "markdown",
   "id": "ebdf4bfd-697c-4fa3-9b6d-5ee177397ae1",
   "metadata": {},
   "source": [
    "### Create a table that shows Services used and churn rate for each services"
   ]
  },
  {
   "cell_type": "code",
   "execution_count": 111,
   "id": "229e11bc-66ac-4bc4-b71d-fe07e3ddf6f8",
   "metadata": {},
   "outputs": [
    {
     "data": {
      "text/html": [
       "<div>\n",
       "<style scoped>\n",
       "    .dataframe tbody tr th:only-of-type {\n",
       "        vertical-align: middle;\n",
       "    }\n",
       "\n",
       "    .dataframe tbody tr th {\n",
       "        vertical-align: top;\n",
       "    }\n",
       "\n",
       "    .dataframe thead th {\n",
       "        text-align: right;\n",
       "    }\n",
       "</style>\n",
       "<table border=\"1\" class=\"dataframe\">\n",
       "  <thead>\n",
       "    <tr style=\"text-align: right;\">\n",
       "      <th></th>\n",
       "      <th>Service</th>\n",
       "      <th>Customer Count Service User</th>\n",
       "      <th>User Percentage (%)</th>\n",
       "      <th>Service User Churn rate (%)</th>\n",
       "      <th>Churned costomer count</th>\n",
       "      <th>Customer Count Non Service User</th>\n",
       "      <th>Non_Service User Churn rate (%)</th>\n",
       "    </tr>\n",
       "  </thead>\n",
       "  <tbody>\n",
       "    <tr>\n",
       "      <th>0</th>\n",
       "      <td>OnlineSecurity</td>\n",
       "      <td>2019</td>\n",
       "      <td>28.67</td>\n",
       "      <td>14.61</td>\n",
       "      <td>295</td>\n",
       "      <td>3498</td>\n",
       "      <td>41.77</td>\n",
       "    </tr>\n",
       "    <tr>\n",
       "      <th>1</th>\n",
       "      <td>TechSupport</td>\n",
       "      <td>2044</td>\n",
       "      <td>29.02</td>\n",
       "      <td>15.17</td>\n",
       "      <td>310</td>\n",
       "      <td>3473</td>\n",
       "      <td>41.64</td>\n",
       "    </tr>\n",
       "    <tr>\n",
       "      <th>2</th>\n",
       "      <td>OnlineBackup</td>\n",
       "      <td>2429</td>\n",
       "      <td>34.49</td>\n",
       "      <td>21.53</td>\n",
       "      <td>523</td>\n",
       "      <td>3088</td>\n",
       "      <td>39.93</td>\n",
       "    </tr>\n",
       "    <tr>\n",
       "      <th>3</th>\n",
       "      <td>DeviceProtection</td>\n",
       "      <td>2422</td>\n",
       "      <td>34.39</td>\n",
       "      <td>22.50</td>\n",
       "      <td>545</td>\n",
       "      <td>3095</td>\n",
       "      <td>39.13</td>\n",
       "    </tr>\n",
       "    <tr>\n",
       "      <th>4</th>\n",
       "      <td>StreamingMovies</td>\n",
       "      <td>2732</td>\n",
       "      <td>38.79</td>\n",
       "      <td>29.94</td>\n",
       "      <td>818</td>\n",
       "      <td>2785</td>\n",
       "      <td>33.68</td>\n",
       "    </tr>\n",
       "    <tr>\n",
       "      <th>5</th>\n",
       "      <td>StreamingTV</td>\n",
       "      <td>2707</td>\n",
       "      <td>38.44</td>\n",
       "      <td>30.07</td>\n",
       "      <td>814</td>\n",
       "      <td>2810</td>\n",
       "      <td>33.52</td>\n",
       "    </tr>\n",
       "    <tr>\n",
       "      <th>6</th>\n",
       "      <td>MultipleLines</td>\n",
       "      <td>2971</td>\n",
       "      <td>42.18</td>\n",
       "      <td>28.61</td>\n",
       "      <td>850</td>\n",
       "      <td>3390</td>\n",
       "      <td>25.04</td>\n",
       "    </tr>\n",
       "    <tr>\n",
       "      <th>7</th>\n",
       "      <td>PhoneService</td>\n",
       "      <td>6361</td>\n",
       "      <td>90.32</td>\n",
       "      <td>26.71</td>\n",
       "      <td>1699</td>\n",
       "      <td>682</td>\n",
       "      <td>24.93</td>\n",
       "    </tr>\n",
       "    <tr>\n",
       "      <th>8</th>\n",
       "      <td>InternetService</td>\n",
       "      <td>5517</td>\n",
       "      <td>78.33</td>\n",
       "      <td>31.83</td>\n",
       "      <td>1756</td>\n",
       "      <td>1526</td>\n",
       "      <td>7.40</td>\n",
       "    </tr>\n",
       "  </tbody>\n",
       "</table>\n",
       "</div>"
      ],
      "text/plain": [
       "            Service  Customer Count Service User  User Percentage (%)  \\\n",
       "0    OnlineSecurity                         2019                28.67   \n",
       "1       TechSupport                         2044                29.02   \n",
       "2      OnlineBackup                         2429                34.49   \n",
       "3  DeviceProtection                         2422                34.39   \n",
       "4   StreamingMovies                         2732                38.79   \n",
       "5       StreamingTV                         2707                38.44   \n",
       "6     MultipleLines                         2971                42.18   \n",
       "7      PhoneService                         6361                90.32   \n",
       "8   InternetService                         5517                78.33   \n",
       "\n",
       "   Service User Churn rate (%)  Churned costomer count  \\\n",
       "0                        14.61                     295   \n",
       "1                        15.17                     310   \n",
       "2                        21.53                     523   \n",
       "3                        22.50                     545   \n",
       "4                        29.94                     818   \n",
       "5                        30.07                     814   \n",
       "6                        28.61                     850   \n",
       "7                        26.71                    1699   \n",
       "8                        31.83                    1756   \n",
       "\n",
       "   Customer Count Non Service User  Non_Service User Churn rate (%)  \n",
       "0                             3498                            41.77  \n",
       "1                             3473                            41.64  \n",
       "2                             3088                            39.93  \n",
       "3                             3095                            39.13  \n",
       "4                             2785                            33.68  \n",
       "5                             2810                            33.52  \n",
       "6                             3390                            25.04  \n",
       "7                              682                            24.93  \n",
       "8                             1526                             7.40  "
      ]
     },
     "execution_count": 111,
     "metadata": {},
     "output_type": "execute_result"
    }
   ],
   "source": [
    "Services = ['PhoneService', 'MultipleLines', 'InternetService', 'OnlineSecurity', 'OnlineBackup', \n",
    "           'DeviceProtection','TechSupport','StreamingTV', 'StreamingMovies']\n",
    "\n",
    "Service_summary = {\n",
    "    'Service' : [],\n",
    "    'Customer Count Service User' : [],\n",
    "    'User Percentage (%)' : [],\n",
    "    'Service User Churn rate (%)' : [],\n",
    "    'Churned costomer count' : [],\n",
    "    'Customer Count Non Service User' : [],\n",
    "    'Non_Service User Churn rate (%)' : []\n",
    "}\n",
    "\n",
    "\n",
    "for service in Services:\n",
    "    if service != 'InternetService':\n",
    "        Service_summary['Service'].append(service)\n",
    "        \n",
    "        dummy_user = df[df[service]=='Yes']\n",
    "        yes_count = dummy_user.shape[0]\n",
    "        churn_count = dummy_user[dummy_user['Churn'] == 'Yes'].shape[0]\n",
    "        \n",
    "        Service_summary['Customer Count Service User'].append(yes_count)\n",
    "        Service_summary['User Percentage (%)'].append(round((yes_count/df.shape[0])*100, 2))\n",
    "        if churn_count != 0:\n",
    "            Service_summary['Service User Churn rate (%)'].append(round((churn_count/yes_count)*100, 2))\n",
    "        else:\n",
    "            Service_summary['Service User Churn rate (%)'].append('N/A')\n",
    "\n",
    "        Service_summary['Churned costomer count'].append(churn_count)\n",
    "        dummy_non_user = df[df[service]=='No']\n",
    "        non_user_count = dummy_non_user.shape[0]\n",
    "        non_churn_count = dummy_non_user[dummy_non_user['Churn'] == 'Yes'].shape[0]\n",
    "                \n",
    "        Service_summary['Customer Count Non Service User'].append(non_user_count)\n",
    "        if non_churn_count != 0:\n",
    "            Service_summary['Non_Service User Churn rate (%)'].append(round((non_churn_count/non_user_count)*100, 2))\n",
    "        else:\n",
    "            Service_summary['Non_Service User Churn rate (%)'].append('N/A')\n",
    "\n",
    "    else:\n",
    "        Service_summary['Service'].append(service)\n",
    "        \n",
    "        dummy_user = df[(df[service]=='Fiber optic')|(df[service]=='DSL')]\n",
    "        yes_count = dummy_user.shape[0]\n",
    "        churn_count = dummy_user[dummy_user['Churn'] == 'Yes'].shape[0]\n",
    "        \n",
    "        Service_summary['Customer Count Service User'].append(yes_count)\n",
    "        Service_summary['User Percentage (%)'].append(round((yes_count/df.shape[0])*100, 2))\n",
    "        if churn_count != 0:\n",
    "            Service_summary['Service User Churn rate (%)'].append(round((churn_count/yes_count)*100, 2))\n",
    "        else:\n",
    "            Service_summary['Service User Churn rate (%)'].append('N/A')\n",
    "\n",
    "        Service_summary['Churned costomer count'].append(churn_count)\n",
    "        dummy_non_user = df[df[service]=='No']\n",
    "        non_user_count = dummy_non_user.shape[0]\n",
    "        non_churn_count = dummy_non_user[dummy_non_user['Churn'] == 'Yes'].shape[0]\n",
    "                \n",
    "        Service_summary['Customer Count Non Service User'].append(non_user_count)\n",
    "        if non_churn_count != 0:\n",
    "            Service_summary['Non_Service User Churn rate (%)'].append(round((non_churn_count/non_user_count)*100, 2))\n",
    "        else:\n",
    "            Service_summary['Non_Service User Churn rate (%)'].append('N/A')\n",
    "\n",
    "Service_summary_df = pd.DataFrame(Service_summary)\n",
    "Service_summary_df.to_csv('Telco-Services-Analysis-Summary.csv', index = False)\n",
    "Service_summary_df_sorted = Service_summary_df.sort_values(by=['Non_Service User Churn rate (%)'], ignore_index = True, ascending = False)\n",
    "Service_summary_df_sorted"
   ]
  },
  {
   "cell_type": "markdown",
   "id": "348e1167-75b2-4275-a8b7-eddd3ff1c9ef",
   "metadata": {},
   "source": [
    "Note: \n",
    "- Multiple Line churn rate for both users and non user, does not take into account customer without phone line.\n",
    "- For services that are internet dependents, the churn rate of user and non-user does not take into account customers that do not have internet"
   ]
  },
  {
   "cell_type": "markdown",
   "id": "beb04043-fa37-48c6-9972-596065dd70bc",
   "metadata": {
    "jp-MarkdownHeadingCollapsed": true
   },
   "source": [
    "### Churned - services review"
   ]
  },
  {
   "cell_type": "code",
   "execution_count": 94,
   "id": "b5a36841-600e-4c58-85b8-1081bd68ee9e",
   "metadata": {},
   "outputs": [
    {
     "data": {
      "text/html": [
       "<div>\n",
       "<style scoped>\n",
       "    .dataframe tbody tr th:only-of-type {\n",
       "        vertical-align: middle;\n",
       "    }\n",
       "\n",
       "    .dataframe tbody tr th {\n",
       "        vertical-align: top;\n",
       "    }\n",
       "\n",
       "    .dataframe thead th {\n",
       "        text-align: right;\n",
       "    }\n",
       "</style>\n",
       "<table border=\"1\" class=\"dataframe\">\n",
       "  <thead>\n",
       "    <tr style=\"text-align: right;\">\n",
       "      <th></th>\n",
       "      <th>Service</th>\n",
       "      <th>Churned Customer Count</th>\n",
       "      <th>Sole customer</th>\n",
       "      <th>Churn rate (%)</th>\n",
       "    </tr>\n",
       "  </thead>\n",
       "  <tbody>\n",
       "    <tr>\n",
       "      <th>0</th>\n",
       "      <td>PhoneService</td>\n",
       "      <td>1699</td>\n",
       "      <td>113</td>\n",
       "      <td>26.71</td>\n",
       "    </tr>\n",
       "    <tr>\n",
       "      <th>1</th>\n",
       "      <td>InternetService</td>\n",
       "      <td>1756</td>\n",
       "      <td>170</td>\n",
       "      <td>31.83</td>\n",
       "    </tr>\n",
       "  </tbody>\n",
       "</table>\n",
       "</div>"
      ],
      "text/plain": [
       "           Service  Churned Customer Count  Sole customer  Churn rate (%)\n",
       "0     PhoneService                    1699            113           26.71\n",
       "1  InternetService                    1756            170           31.83"
      ]
     },
     "execution_count": 94,
     "metadata": {},
     "output_type": "execute_result"
    }
   ],
   "source": [
    "Services = ['PhoneService', 'InternetService']\n",
    "\n",
    "Service_summary = {\n",
    "    'Service' : [],\n",
    "    'Churned Customer Count' : [],\n",
    "    'Sole customer' : [],\n",
    "    #'Percentage (%)' : [],\n",
    "    'Churn rate (%)' : [],\n",
    "    #'Customer Count Non Service User' : [],\n",
    "    #'Non_Service User Churn rate (%)' : []\n",
    "}\n",
    "\n",
    "churned_data = df[df['Churn']=='Yes']\n",
    "\n",
    "for service in Services:\n",
    "    if service == 'PhoneService':\n",
    "        Service_summary['Service'].append(service)\n",
    "        dummy_user = churned_data[churned_data[service]!='No']\n",
    "        sole_user = dummy_user[dummy_user['InternetService']=='No']\n",
    "        yes_count = dummy_user.shape[0] \n",
    "        sole_count = sole_user.shape[0]\n",
    "        Service_summary['Churned Customer Count'].append(yes_count)\n",
    "        Service_summary['Churn rate (%)'].append(round((yes_count/df[df[service]!='No'].shape[0])*100, 2))\n",
    "        Service_summary['Sole customer'].append(sole_count)\n",
    "        \n",
    "    else:\n",
    "        Service_summary['Service'].append(service)\n",
    "        dummy_user = churned_data[churned_data[service]!='No']\n",
    "        sole_user = dummy_user[dummy_user['PhoneService']=='No']\n",
    "        yes_count = dummy_user.shape[0] \n",
    "        sole_count = sole_user.shape[0]\n",
    "        Service_summary['Churned Customer Count'].append(yes_count)\n",
    "        Service_summary['Churn rate (%)'].append(round((yes_count/df[df[service]!='No'].shape[0])*100, 2))\n",
    "        Service_summary['Sole customer'].append(sole_count)\n",
    "\n",
    "Service_summary_df = pd.DataFrame(Service_summary)\n",
    "Service_summary_df.to_csv('Telco-Churned-Services-Analysis-Summary.csv', index = False)\n",
    "Service_summary_df"
   ]
  },
  {
   "cell_type": "markdown",
   "id": "4b610755-f153-4f67-b2b0-a9b90f3a5ac0",
   "metadata": {
    "jp-MarkdownHeadingCollapsed": true
   },
   "source": [
    "## Exploring data Visually."
   ]
  },
  {
   "cell_type": "markdown",
   "id": "e294a615-0fa7-40a2-8110-24035a6b3325",
   "metadata": {},
   "source": [
    "### Phone Services"
   ]
  },
  {
   "cell_type": "code",
   "execution_count": null,
   "id": "f1047357-752a-4443-a808-a1067311482d",
   "metadata": {},
   "outputs": [],
   "source": [
    "ax = sns.barplot(Service_Phone, x='PhoneService', y='count', hue='Churn', errorbar=None)\n",
    "\n",
    "# Iterate through the bars and add labels\n",
    "for p in ax.patches:\n",
    "    height = p.get_height()\n",
    "    width = p.get_width()\n",
    "    x = p.get_x() + width / 2  # Center of the bar\n",
    "    y = height  # Top of the bar\n",
    "    label = format(int(height), ',')\n",
    "    ax.annotate(label, (x, y), ha='center', va='bottom',\n",
    "                xytext=(0, 3), textcoords='offset points', color='black')\n",
    "\n",
    "plt.title('Count of Phone Service by Churn')\n",
    "plt.xlabel('Phone Service')\n",
    "plt.ylabel('Count')\n",
    "#plt.xticks(rotation=45, ha='right')  # Rotate for better readability\n",
    "plt.tight_layout() # Adjust layout to prevent labels from overlapping\n",
    "plt.show()"
   ]
  },
  {
   "cell_type": "markdown",
   "id": "af393677-0e53-44c2-bce2-da30cb22be3a",
   "metadata": {},
   "source": [
    "#### Multiple Line Phone Users"
   ]
  },
  {
   "cell_type": "code",
   "execution_count": null,
   "id": "9e7eecab-2e0c-46d0-b8cf-a84730244655",
   "metadata": {},
   "outputs": [],
   "source": [
    "ax = sns.barplot(Multiple_data, x='MultipleLines', y='count', hue='Churn', errorbar=None)\n",
    "\n",
    "# Iterate through the bars and add labels\n",
    "for p in ax.patches:\n",
    "    height = p.get_height()\n",
    "    width = p.get_width()\n",
    "    x = p.get_x() + width / 2  # Center of the bar\n",
    "    y = height  # Top of the bar\n",
    "    label = format(int(height), ',')\n",
    "    ax.annotate(label, (x, y), ha='center', va='bottom',\n",
    "                xytext=(0, 3), textcoords='offset points', color='black')\n",
    "\n",
    "plt.title('Count Customer with Phone Service and Multiple by Churn')\n",
    "plt.xlabel('Multiple Line Status')\n",
    "plt.ylabel('Count')\n",
    "#plt.xticks(rotation=45, ha='right')  # Rotate for better readability\n",
    "plt.tight_layout() # Adjust layout to prevent labels from overlapping\n",
    "plt.show()"
   ]
  },
  {
   "cell_type": "markdown",
   "id": "42abff1c-59c6-429e-ba91-a6aa87d13897",
   "metadata": {
    "jp-MarkdownHeadingCollapsed": true
   },
   "source": [
    "### Internet Services"
   ]
  },
  {
   "cell_type": "code",
   "execution_count": null,
   "id": "0a930d0e-fd6b-4929-8095-c8971af8b08d",
   "metadata": {},
   "outputs": [],
   "source": [
    "ax = sns.barplot(Services_Internet, x='InternetService', y='count', hue='Churn', errorbar=None)\n",
    "\n",
    "# Iterate through the bars and add labels\n",
    "for p in ax.patches:\n",
    "    height = p.get_height()\n",
    "    width = p.get_width()\n",
    "    x = p.get_x() + width / 2  # Center of the bar\n",
    "    y = height  # Top of the bar\n",
    "    label = format(int(height), ',')\n",
    "    ax.annotate(label, (x, y), ha='center', va='bottom',\n",
    "                xytext=(0, 3), textcoords='offset points', color='black')\n",
    "\n",
    "plt.title('Count of Internet Service by Churn')\n",
    "plt.xlabel('Internet Services')\n",
    "plt.ylabel('Number of Customer')\n",
    "#plt.xticks(rotation=45, ha='right')  # Rotate for better readability\n",
    "plt.tight_layout() # Adjust layout to prevent labels from overlapping\n",
    "plt.show()"
   ]
  },
  {
   "cell_type": "markdown",
   "id": "a4b72942-1022-4798-a4d2-338e27a8788a",
   "metadata": {},
   "source": [
    "#### Type of Internet"
   ]
  },
  {
   "cell_type": "code",
   "execution_count": null,
   "id": "ec8a3f9c-e2f7-47f0-a986-79ddc59b70dc",
   "metadata": {},
   "outputs": [],
   "source": [
    "ax = sns.barplot(internet_type, x='InternetService', y='count', hue='Churn', errorbar=None)\n",
    "\n",
    "# Iterate through the bars and add labels\n",
    "for p in ax.patches:\n",
    "    height = p.get_height()\n",
    "    width = p.get_width()\n",
    "    x = p.get_x() + width / 2  # Center of the bar\n",
    "    y = height  # Top of the bar\n",
    "    label = format(int(height), ',')\n",
    "    ax.annotate(label, (x, y), ha='center', va='bottom',\n",
    "                xytext=(0, 3), textcoords='offset points', color='black')\n",
    "\n",
    "plt.title('Count of Internet Type by Churn')\n",
    "plt.xlabel('Internet Services Type')\n",
    "plt.ylabel('Number of Customer')\n",
    "#plt.xticks(rotation=45, ha='right')  # Rotate for better readability\n",
    "plt.tight_layout() # Adjust layout to prevent labels from overlapping\n",
    "plt.show()"
   ]
  },
  {
   "cell_type": "markdown",
   "id": "6177aaf0-6c2d-4af4-8d43-e07adbb47106",
   "metadata": {
    "jp-MarkdownHeadingCollapsed": true
   },
   "source": [
    "### Online Security Service"
   ]
  },
  {
   "cell_type": "code",
   "execution_count": null,
   "id": "e28eef1e-5273-49b6-ac3e-097b02337df9",
   "metadata": {},
   "outputs": [],
   "source": [
    "ax = sns.barplot(OnlineSec_data, x='OnlineSecurity', y='count', hue='Churn', errorbar=None)\n",
    "\n",
    "# Iterate through the bars and add labels\n",
    "for p in ax.patches:\n",
    "    height = p.get_height()\n",
    "    width = p.get_width()\n",
    "    x = p.get_x() + width / 2  # Center of the bar\n",
    "    y = height  # Top of the bar\n",
    "    label = format(int(height), ',')\n",
    "    ax.annotate(label, (x, y), ha='center', va='bottom',\n",
    "                xytext=(0, 3), textcoords='offset points', color='black')\n",
    "\n",
    "plt.title('Count of Customer that Have internet and Online Security by Churn')\n",
    "plt.xlabel('Online Security Status')\n",
    "plt.ylabel('Number of Customer')\n",
    "#plt.xticks(rotation=45, ha='right')  # Rotate for better readability\n",
    "plt.tight_layout() # Adjust layout to prevent labels from overlapping\n",
    "plt.show()"
   ]
  },
  {
   "cell_type": "markdown",
   "id": "8c4e67d8-b705-436b-b3e7-cc68d1d61a89",
   "metadata": {
    "jp-MarkdownHeadingCollapsed": true
   },
   "source": [
    "### Online Backup"
   ]
  },
  {
   "cell_type": "code",
   "execution_count": null,
   "id": "05ab446d-ab52-40c0-b492-c56b8c842930",
   "metadata": {},
   "outputs": [],
   "source": [
    "ax = sns.barplot(OnlineBac_data, x='OnlineBackup', y='count', hue='Churn', errorbar=None)\n",
    "\n",
    "# Iterate through the bars and add labels\n",
    "for p in ax.patches:\n",
    "    height = p.get_height()\n",
    "    width = p.get_width()\n",
    "    x = p.get_x() + width / 2  # Center of the bar\n",
    "    y = height  # Top of the bar\n",
    "    label = format(int(height), ',')\n",
    "    ax.annotate(label, (x, y), ha='center', va='bottom',\n",
    "                xytext=(0, 3), textcoords='offset points', color='black')\n",
    "\n",
    "plt.title('Count of Customer that have internet and Online Backup by Churn')\n",
    "plt.xlabel('Online Backup Status')\n",
    "plt.ylabel('Number of Customer')\n",
    "#plt.xticks(rotation=45, ha='right')  # Rotate for better readability\n",
    "plt.tight_layout() # Adjust layout to prevent labels from overlapping\n",
    "plt.show()"
   ]
  },
  {
   "cell_type": "markdown",
   "id": "8c33174d-fef2-4608-af3e-25f6c74bdb02",
   "metadata": {
    "jp-MarkdownHeadingCollapsed": true
   },
   "source": [
    "### Device Protection"
   ]
  },
  {
   "cell_type": "code",
   "execution_count": null,
   "id": "c34049f8-49f5-4c21-ab04-bd673527e0fd",
   "metadata": {},
   "outputs": [],
   "source": [
    "ax = sns.barplot(Device_data, x='DeviceProtection', y='count', hue='Churn', errorbar=None)\n",
    "\n",
    "# Iterate through the bars and add labels\n",
    "for p in ax.patches:\n",
    "    height = p.get_height()\n",
    "    width = p.get_width()\n",
    "    x = p.get_x() + width / 2  # Center of the bar\n",
    "    y = height  # Top of the bar\n",
    "    label = format(int(height), ',')\n",
    "    ax.annotate(label, (x, y), ha='center', va='bottom',\n",
    "                xytext=(0, 3), textcoords='offset points', color='black')\n",
    "\n",
    "plt.title('Count of Customer that have internet and Device Protection by Churn')\n",
    "plt.xlabel('Device Protection Status')\n",
    "plt.ylabel('Number of Customer')\n",
    "#plt.xticks(rotation=45, ha='right')  # Rotate for better readability\n",
    "plt.tight_layout() # Adjust layout to prevent labels from overlapping\n",
    "plt.show()"
   ]
  },
  {
   "cell_type": "markdown",
   "id": "75792e20-7fa1-40fb-ab78-6f4519c8a868",
   "metadata": {
    "jp-MarkdownHeadingCollapsed": true
   },
   "source": [
    "### Tech Support"
   ]
  },
  {
   "cell_type": "code",
   "execution_count": null,
   "id": "304ea3cc-1511-4be9-a5ce-bbc06b05678e",
   "metadata": {},
   "outputs": [],
   "source": [
    "ax = sns.barplot(Tech_data, x='TechSupport', y='count', hue='Churn', errorbar=None)\n",
    "\n",
    "# Iterate through the bars and add labels\n",
    "for p in ax.patches:\n",
    "    height = p.get_height()\n",
    "    width = p.get_width()\n",
    "    x = p.get_x() + width / 2  # Center of the bar\n",
    "    y = height  # Top of the bar\n",
    "    label = format(int(height), ',')\n",
    "    ax.annotate(label, (x, y), ha='center', va='bottom',\n",
    "                xytext=(0, 3), textcoords='offset points', color='black')\n",
    "\n",
    "plt.title('Count of Customer that have internet and Tech Support by Churn')\n",
    "plt.xlabel('Tech Support Status')\n",
    "plt.ylabel('Number of Customer')\n",
    "#plt.xticks(rotation=45, ha='right')  # Rotate for better readability\n",
    "plt.tight_layout() # Adjust layout to prevent labels from overlapping\n",
    "plt.show()"
   ]
  },
  {
   "cell_type": "markdown",
   "id": "89b62056-c520-4a18-826b-a0028be3ee96",
   "metadata": {
    "jp-MarkdownHeadingCollapsed": true
   },
   "source": [
    "### Streaming TV"
   ]
  },
  {
   "cell_type": "code",
   "execution_count": null,
   "id": "f846a8b9-6edc-48ed-a16b-cf5f348cfd76",
   "metadata": {},
   "outputs": [],
   "source": [
    "ax = sns.barplot(StreamTv_data, x='StreamingTV', y='count', hue='Churn', errorbar=None)\n",
    "\n",
    "# Iterate through the bars and add labels\n",
    "for p in ax.patches:\n",
    "    height = p.get_height()\n",
    "    width = p.get_width()\n",
    "    x = p.get_x() + width / 2  # Center of the bar\n",
    "    y = height  # Top of the bar\n",
    "    label = format(int(height), ',')\n",
    "    ax.annotate(label, (x, y), ha='center', va='bottom',\n",
    "                xytext=(0, 3), textcoords='offset points', color='black')\n",
    "\n",
    "plt.title('Count of Customer that have internet and Stream TV by Churn')\n",
    "plt.xlabel('Streaming TV Status')\n",
    "plt.ylabel('Number of Customer')\n",
    "#plt.xticks(rotation=45, ha='right')  # Rotate for better readability\n",
    "plt.tight_layout() # Adjust layout to prevent labels from overlapping\n",
    "plt.show()"
   ]
  },
  {
   "cell_type": "markdown",
   "id": "541b2081-1611-4847-8102-bea31cedb36b",
   "metadata": {
    "jp-MarkdownHeadingCollapsed": true
   },
   "source": [
    "### Streaming Movie"
   ]
  },
  {
   "cell_type": "code",
   "execution_count": null,
   "id": "0219878e-28ae-422a-94b6-d743b96bd633",
   "metadata": {},
   "outputs": [],
   "source": [
    "ax = sns.barplot(StreamMovie_data, x='StreamingMovies', y='count', hue='Churn', errorbar=None)\n",
    "\n",
    "# Iterate through the bars and add labels\n",
    "for p in ax.patches:\n",
    "    height = p.get_height()\n",
    "    width = p.get_width()\n",
    "    x = p.get_x() + width / 2  # Center of the bar\n",
    "    y = height  # Top of the bar\n",
    "    label = format(int(height), ',')\n",
    "    ax.annotate(label, (x, y), ha='center', va='bottom',\n",
    "                xytext=(0, 3), textcoords='offset points', color='black')\n",
    "\n",
    "plt.title('Count of Customer that have internet and Stream Movies by Churn')\n",
    "plt.xlabel('Streaming Movies Status')\n",
    "plt.ylabel('Number of Customer')\n",
    "#plt.xticks(rotation=45, ha='right')  # Rotate for better readability\n",
    "plt.tight_layout() # Adjust layout to prevent labels from overlapping\n",
    "plt.show()"
   ]
  },
  {
   "cell_type": "markdown",
   "id": "6ad14063-320a-4971-ae19-1dc3fe007179",
   "metadata": {},
   "source": [
    "## Findings"
   ]
  },
  {
   "cell_type": "markdown",
   "id": "180af001-c28a-491b-8605-1fc709974a5a",
   "metadata": {},
   "source": [
    "### Service Popularity\n",
    "\n",
    "The most widely used service is **Phone Line**, with **90%** of customers subscribed. **Internet Service** follows closely behind at **78%**.\n",
    "\n",
    "Certain services depend on others:\n",
    "- **Multiple Line** requires **Phone Line**.\n",
    "- All other services rely on having **Internet Service**.\n",
    "\n",
    "Among the **dependent services**, **Multiple Line** is the most popular, with **42%** of customers using it. Streaming services also have significant adoption:\n",
    "- **Streaming Movies** (**38.79%**)\n",
    "- **Streaming TV** (**38.44%**)\n",
    "\n",
    "On the **lower end**, **Online Security** (**28.67%**) and **Tech Support** (**29.02%**) are less commonly used."
   ]
  },
  {
   "cell_type": "markdown",
   "id": "aa9b2acf-f2c9-4533-9c2c-4ae29895f005",
   "metadata": {},
   "source": [
    "### Churn Rate Insights\n",
    "\n",
    "#### Services with the Highest Customer Attrition Rates:\n",
    "- **Internet Service** (**31.83%**)\n",
    "- **Streaming TV** (**30.07%**)\n",
    "- **Streaming Movies** (**29.94%**)\n",
    "\n",
    "#### Services with Lower Churn Rates:\n",
    "- **Online Security** (**14.61%**)\n",
    "- **Tech Support** (**15.17%**)\n",
    "- **Online Backup** (**21.53%**)\n",
    "\n",
    "#### Total Customer Loss:\n",
    "- **Internet Service** saw the highest churn, with **1,756** customers leaving.\n",
    "- **Phone Line** followed closely, with **1,699** customers lost."
   ]
  },
  {
   "cell_type": "markdown",
   "id": "9f99f674-3877-49fc-9060-c6e3bfb0be54",
   "metadata": {},
   "source": [
    "### Churn Rate Among Non-Service Users\n",
    "\n",
    "Interestingly, **non-users** of certain services churn at **much higher rates** than those who subscribe:\n",
    "- **Online Security** (**41.77%**)\n",
    "- **Tech Support** (**41.64%**)\n",
    "- **Online Backup** (**39.93%**)\n",
    "\n",
    "This suggests that customers who **don’t use these services** are more likely to leave than those who do, potentially indicating the **value these services provide** when subscribed.\n",
    "\n",
    "For **Internet Service**, the churn rate among **non-users** is **7.40%**, which seems low. However, since **most other services depend on having Internet**, **not subscribing is not recommended**.\n",
    "\n",
    "Lastly, the **churn rate difference** between **Phone Line users and non-users** is **relatively small**, at **1.78 percentage points**, translating to a **6.89% difference**."
   ]
  },
  {
   "cell_type": "markdown",
   "id": "da66a047-4584-4e15-a8de-3998af373254",
   "metadata": {},
   "source": [
    "### Conclusion\n",
    "\n",
    "#### Key Findings\n",
    "1. **Internet Service Plays a Critical Role in Customer Retention**  \n",
    "   - **Internet Service has the highest churn rate (31.83%)** and the highest total customer loss (**1,756 customers**).  \n",
    "   - Since many other services depend on Internet, improving its reliability and customer satisfaction could help **reduce overall churn**.  \n",
    "\n",
    "2. **Streaming Services Are at High Risk of Churn**  \n",
    "   - **Streaming TV (30.07%) and Streaming Movies (29.94%)** have some of the highest churn rates.  \n",
    "   - Customers may not perceive sufficient value in these services, possibly due to pricing, content availability, or competition.  \n",
    "\n",
    "3. **Non-Service Users Have Higher Churn Rates**  \n",
    "   - Non-users of **Online Security (41.77%)**, **Tech Support (41.64%)**, and **Online Backup (39.93%)** churn at **higher rates** than subscribers.  \n",
    "   - This suggests these services may **help retain customers**, making adoption strategies beneficial.  \n",
    "\n",
    "4. **Phone Line Has a Small but Notable Impact on Churn**  \n",
    "   - The **churn rate difference** between **Phone Line users and non-users** is **only 1.78 percentage points**, translating to a **6.89% difference**.  \n",
    "   - While its churn rate is lower than Internet Service, it still contributes **significantly to overall customer loss (1,699 customers lost)**.  \n",
    "\n",
    "#### Implications & Recommendations  \n",
    "- **Prioritize Improvements in Internet Service**: Reducing churn in Internet Service will likely have a **cascading effect** on retaining customers in dependent services.  \n",
    "- **Enhance the Value of Streaming Services**: Addressing **customer concerns** regarding streaming services could prevent further churn.  \n",
    "- **Leverage Retention Benefits of Security & Support Services**: Encouraging customers to adopt **Online Security and Tech Support** may **increase retention** and stabilize customer engagement.  "
   ]
  }
 ],
 "metadata": {
  "kernelspec": {
   "display_name": "anaconda-2024.02-py310",
   "language": "python",
   "name": "conda-env-anaconda-2024.02-py310-py"
  },
  "language_info": {
   "codemirror_mode": {
    "name": "ipython",
    "version": 3
   },
   "file_extension": ".py",
   "mimetype": "text/x-python",
   "name": "python",
   "nbconvert_exporter": "python",
   "pygments_lexer": "ipython3",
   "version": "3.10.14"
  }
 },
 "nbformat": 4,
 "nbformat_minor": 5
}
